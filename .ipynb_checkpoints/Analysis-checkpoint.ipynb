{
 "cells": [
  {
   "cell_type": "markdown",
   "id": "1601cccc",
   "metadata": {},
   "source": [
    "Installing packages"
   ]
  },
  {
   "cell_type": "code",
   "execution_count": null,
   "id": "cf9c0c28",
   "metadata": {},
   "outputs": [],
   "source": [
    "!pip install requests\n",
    "!pip install beautifulsoup4\n",
    "!pip install pandas"
   ]
  },
  {
   "cell_type": "markdown",
   "id": "e1274d3b",
   "metadata": {},
   "source": [
    " "
   ]
  },
  {
   "cell_type": "markdown",
   "id": "7f24133f",
   "metadata": {},
   "source": [
    " "
   ]
  },
  {
   "cell_type": "markdown",
   "id": "d0e2f3f7",
   "metadata": {},
   "source": [
    "Importing modules"
   ]
  },
  {
   "cell_type": "code",
   "execution_count": 72,
   "id": "d9f95bf1",
   "metadata": {},
   "outputs": [],
   "source": [
    "import pandas as pd\n",
    "import matplotlib"
   ]
  },
  {
   "cell_type": "markdown",
   "id": "90b778ad",
   "metadata": {},
   "source": [
    " "
   ]
  },
  {
   "cell_type": "markdown",
   "id": "46e7e26b",
   "metadata": {},
   "source": [
    " "
   ]
  },
  {
   "cell_type": "markdown",
   "id": "4ca21f32",
   "metadata": {},
   "source": [
    "Reading parsed data from data.csv file"
   ]
  },
  {
   "cell_type": "code",
   "execution_count": 2,
   "id": "b68a9424",
   "metadata": {},
   "outputs": [],
   "source": [
    "data = pd.read_csv(\"data.csv\")"
   ]
  },
  {
   "cell_type": "markdown",
   "id": "ba3dc747",
   "metadata": {},
   "source": [
    " "
   ]
  },
  {
   "cell_type": "markdown",
   "id": "11c36420",
   "metadata": {},
   "source": [
    " "
   ]
  },
  {
   "cell_type": "markdown",
   "id": "2400839d",
   "metadata": {},
   "source": [
    " "
   ]
  },
  {
   "cell_type": "markdown",
   "id": "1c804cd9",
   "metadata": {},
   "source": [
    "Output first 5 rows of data"
   ]
  },
  {
   "cell_type": "code",
   "execution_count": 3,
   "id": "dc864ae7",
   "metadata": {
    "scrolled": true
   },
   "outputs": [
    {
     "data": {
      "text/html": [
       "<div>\n",
       "<style scoped>\n",
       "    .dataframe tbody tr th:only-of-type {\n",
       "        vertical-align: middle;\n",
       "    }\n",
       "\n",
       "    .dataframe tbody tr th {\n",
       "        vertical-align: top;\n",
       "    }\n",
       "\n",
       "    .dataframe thead th {\n",
       "        text-align: right;\n",
       "    }\n",
       "</style>\n",
       "<table border=\"1\" class=\"dataframe\">\n",
       "  <thead>\n",
       "    <tr style=\"text-align: right;\">\n",
       "      <th></th>\n",
       "      <th>Title</th>\n",
       "      <th>Specialization</th>\n",
       "      <th>Salary</th>\n",
       "      <th>Age</th>\n",
       "      <th>Employment</th>\n",
       "      <th>Work schedule</th>\n",
       "      <th>Experience years</th>\n",
       "      <th>Experience month</th>\n",
       "      <th>Citizenship</th>\n",
       "      <th>Sex</th>\n",
       "      <th>link to resume</th>\n",
       "    </tr>\n",
       "  </thead>\n",
       "  <tbody>\n",
       "    <tr>\n",
       "      <th>0</th>\n",
       "      <td>Python Developer</td>\n",
       "      <td>Программист, разработчик</td>\n",
       "      <td>0</td>\n",
       "      <td>38</td>\n",
       "      <td>Занятость: проектная работа, стажировка, части...</td>\n",
       "      <td>График работы: вахтовый метод, удаленная работ...</td>\n",
       "      <td>13</td>\n",
       "      <td>8</td>\n",
       "      <td>Гражданство: Казахстан</td>\n",
       "      <td>False</td>\n",
       "      <td>https://hh.kz//resume/b7f2197800057fa8e30039ed...</td>\n",
       "    </tr>\n",
       "    <tr>\n",
       "      <th>1</th>\n",
       "      <td>Python разработчик</td>\n",
       "      <td>Программист, разработчик</td>\n",
       "      <td>0</td>\n",
       "      <td>23</td>\n",
       "      <td>Занятость: полная занятость</td>\n",
       "      <td>График работы: удаленная работа</td>\n",
       "      <td>1</td>\n",
       "      <td>8</td>\n",
       "      <td>Гражданство: Россия</td>\n",
       "      <td>True</td>\n",
       "      <td>https://hh.kz//resume/c5ffe3dc00063777b90039ed...</td>\n",
       "    </tr>\n",
       "    <tr>\n",
       "      <th>2</th>\n",
       "      <td>Программист Python</td>\n",
       "      <td>Programmer, developer</td>\n",
       "      <td>0</td>\n",
       "      <td>30</td>\n",
       "      <td>Employment: full time</td>\n",
       "      <td>Work schedule: full day</td>\n",
       "      <td>5</td>\n",
       "      <td>6</td>\n",
       "      <td>Citizenship: Russia</td>\n",
       "      <td>True</td>\n",
       "      <td>https://hh.kz//resume/69dd143c0003a1f6f20039ed...</td>\n",
       "    </tr>\n",
       "    <tr>\n",
       "      <th>3</th>\n",
       "      <td>Программист Python</td>\n",
       "      <td>Программист, разработчик</td>\n",
       "      <td>0</td>\n",
       "      <td>22</td>\n",
       "      <td>Занятость: стажировка, частичная занятость, пр...</td>\n",
       "      <td>График работы: гибкий график, полный день, сме...</td>\n",
       "      <td>1</td>\n",
       "      <td>8</td>\n",
       "      <td>Гражданство: Беларусь</td>\n",
       "      <td>True</td>\n",
       "      <td>https://hh.kz//resume/cdd1757d0007268d4d0039ed...</td>\n",
       "    </tr>\n",
       "    <tr>\n",
       "      <th>4</th>\n",
       "      <td>Python Developer</td>\n",
       "      <td>Программист, разработчик</td>\n",
       "      <td>300000</td>\n",
       "      <td>20</td>\n",
       "      <td>Занятость: частичная занятость, полная занятость</td>\n",
       "      <td>График работы: гибкий график, полный день, уда...</td>\n",
       "      <td>6</td>\n",
       "      <td>0</td>\n",
       "      <td>Гражданство: Казахстан</td>\n",
       "      <td>True</td>\n",
       "      <td>https://hh.kz//resume/559ada080008311e020039ed...</td>\n",
       "    </tr>\n",
       "  </tbody>\n",
       "</table>\n",
       "</div>"
      ],
      "text/plain": [
       "                Title            Specialization  Salary Age  \\\n",
       "0    Python Developer  Программист, разработчик       0  38   \n",
       "1  Python разработчик  Программист, разработчик       0  23   \n",
       "2  Программист Python     Programmer, developer       0  30   \n",
       "3  Программист Python  Программист, разработчик       0  22   \n",
       "4    Python Developer  Программист, разработчик  300000  20   \n",
       "\n",
       "                                          Employment  \\\n",
       "0  Занятость: проектная работа, стажировка, части...   \n",
       "1                        Занятость: полная занятость   \n",
       "2                              Employment: full time   \n",
       "3  Занятость: стажировка, частичная занятость, пр...   \n",
       "4   Занятость: частичная занятость, полная занятость   \n",
       "\n",
       "                                       Work schedule  Experience years  \\\n",
       "0  График работы: вахтовый метод, удаленная работ...                13   \n",
       "1                    График работы: удаленная работа                 1   \n",
       "2                            Work schedule: full day                 5   \n",
       "3  График работы: гибкий график, полный день, сме...                 1   \n",
       "4  График работы: гибкий график, полный день, уда...                 6   \n",
       "\n",
       "   Experience month             Citizenship    Sex  \\\n",
       "0                 8  Гражданство: Казахстан  False   \n",
       "1                 8     Гражданство: Россия   True   \n",
       "2                 6     Citizenship: Russia   True   \n",
       "3                 8   Гражданство: Беларусь   True   \n",
       "4                 0  Гражданство: Казахстан   True   \n",
       "\n",
       "                                      link to resume  \n",
       "0  https://hh.kz//resume/b7f2197800057fa8e30039ed...  \n",
       "1  https://hh.kz//resume/c5ffe3dc00063777b90039ed...  \n",
       "2  https://hh.kz//resume/69dd143c0003a1f6f20039ed...  \n",
       "3  https://hh.kz//resume/cdd1757d0007268d4d0039ed...  \n",
       "4  https://hh.kz//resume/559ada080008311e020039ed...  "
      ]
     },
     "execution_count": 3,
     "metadata": {},
     "output_type": "execute_result"
    }
   ],
   "source": [
    "data.head()"
   ]
  },
  {
   "cell_type": "markdown",
   "id": "cc4943ad",
   "metadata": {},
   "source": [
    " "
   ]
  },
  {
   "cell_type": "markdown",
   "id": "4ccd9604",
   "metadata": {},
   "source": [
    " "
   ]
  },
  {
   "cell_type": "markdown",
   "id": "1e96302d",
   "metadata": {},
   "source": [
    " "
   ]
  },
  {
   "cell_type": "markdown",
   "id": "88740f06",
   "metadata": {},
   "source": [
    "Sorted data by \"Salary\" and output first 10 rows of data"
   ]
  },
  {
   "cell_type": "code",
   "execution_count": 39,
   "id": "220a39bf",
   "metadata": {},
   "outputs": [
    {
     "data": {
      "text/html": [
       "<div>\n",
       "<style scoped>\n",
       "    .dataframe tbody tr th:only-of-type {\n",
       "        vertical-align: middle;\n",
       "    }\n",
       "\n",
       "    .dataframe tbody tr th {\n",
       "        vertical-align: top;\n",
       "    }\n",
       "\n",
       "    .dataframe thead th {\n",
       "        text-align: right;\n",
       "    }\n",
       "</style>\n",
       "<table border=\"1\" class=\"dataframe\">\n",
       "  <thead>\n",
       "    <tr style=\"text-align: right;\">\n",
       "      <th></th>\n",
       "      <th>Title</th>\n",
       "      <th>Specialization</th>\n",
       "      <th>Salary</th>\n",
       "      <th>Age</th>\n",
       "      <th>Employment</th>\n",
       "      <th>Work schedule</th>\n",
       "      <th>Experience years</th>\n",
       "      <th>Experience month</th>\n",
       "      <th>Citizenship</th>\n",
       "      <th>Sex</th>\n",
       "      <th>link to resume</th>\n",
       "    </tr>\n",
       "  </thead>\n",
       "  <tbody>\n",
       "    <tr>\n",
       "      <th>5</th>\n",
       "      <td>Python developer</td>\n",
       "      <td>Программист, разработчик</td>\n",
       "      <td>1000000</td>\n",
       "      <td>41</td>\n",
       "      <td>Занятость: частичная занятость, проектная рабо...</td>\n",
       "      <td>График работы: гибкий график, полный день, сме...</td>\n",
       "      <td>21</td>\n",
       "      <td>5</td>\n",
       "      <td>Гражданство: Казахстан</td>\n",
       "      <td>Мужчина</td>\n",
       "      <td>https://hh.kz//resume/0827db430000e72e6e0039ed...</td>\n",
       "    </tr>\n",
       "    <tr>\n",
       "      <th>8</th>\n",
       "      <td>Python backend developer</td>\n",
       "      <td>Программист, разработчик</td>\n",
       "      <td>670500</td>\n",
       "      <td>20</td>\n",
       "      <td>Занятость: стажировка, частичная занятость, пр...</td>\n",
       "      <td>График работы: гибкий график, полный день, уда...</td>\n",
       "      <td>2</td>\n",
       "      <td>3</td>\n",
       "      <td>Гражданство: Узбекистан</td>\n",
       "      <td>Мужчина</td>\n",
       "      <td>https://hh.kz//resume/5772ea490008e3ab8a0039ed...</td>\n",
       "    </tr>\n",
       "    <tr>\n",
       "      <th>15</th>\n",
       "      <td>Python, Java разработчик</td>\n",
       "      <td>Программист, разработчик</td>\n",
       "      <td>400000</td>\n",
       "      <td>26</td>\n",
       "      <td>Занятость: частичная занятость, проектная рабо...</td>\n",
       "      <td>График работы: гибкий график, полный день, сме...</td>\n",
       "      <td>1</td>\n",
       "      <td>10</td>\n",
       "      <td>Гражданство: Казахстан</td>\n",
       "      <td>Мужчина</td>\n",
       "      <td>https://hh.kz//resume/cca06a6100060bf5e60039ed...</td>\n",
       "    </tr>\n",
       "    <tr>\n",
       "      <th>6</th>\n",
       "      <td>Python Developer</td>\n",
       "      <td>Программист, разработчик</td>\n",
       "      <td>312900</td>\n",
       "      <td>21</td>\n",
       "      <td>Занятость: стажировка, частичная занятость, пр...</td>\n",
       "      <td>График работы: гибкий график, полный день, сме...</td>\n",
       "      <td>1</td>\n",
       "      <td>10</td>\n",
       "      <td>Гражданство: Казахстан</td>\n",
       "      <td>Мужчина</td>\n",
       "      <td>https://hh.kz//resume/05be7fa80009200b590039ed...</td>\n",
       "    </tr>\n",
       "    <tr>\n",
       "      <th>4</th>\n",
       "      <td>Python Developer</td>\n",
       "      <td>Программист, разработчик</td>\n",
       "      <td>300000</td>\n",
       "      <td>20</td>\n",
       "      <td>Занятость: частичная занятость, полная занятость</td>\n",
       "      <td>График работы: гибкий график, полный день, уда...</td>\n",
       "      <td>6</td>\n",
       "      <td>0</td>\n",
       "      <td>Гражданство: Казахстан</td>\n",
       "      <td>Мужчина</td>\n",
       "      <td>https://hh.kz//resume/559ada080008311e020039ed...</td>\n",
       "    </tr>\n",
       "    <tr>\n",
       "      <th>9</th>\n",
       "      <td>Junior Data Engineer</td>\n",
       "      <td>BI-аналитик, аналитик данных</td>\n",
       "      <td>60000</td>\n",
       "      <td>25</td>\n",
       "      <td>Занятость: стажировка, частичная занятость, пр...</td>\n",
       "      <td>График работы: гибкий график, полный день, уда...</td>\n",
       "      <td>3</td>\n",
       "      <td>3</td>\n",
       "      <td>Гражданство: Россия</td>\n",
       "      <td>Мужчина</td>\n",
       "      <td>https://hh.kz//resume/6166828a0006861b5f0039ed...</td>\n",
       "    </tr>\n",
       "    <tr>\n",
       "      <th>0</th>\n",
       "      <td>Python Developer</td>\n",
       "      <td>Программист, разработчик</td>\n",
       "      <td>0</td>\n",
       "      <td>38</td>\n",
       "      <td>Занятость: стажировка, частичная занятость, пр...</td>\n",
       "      <td>График работы: гибкий график, полный день, сме...</td>\n",
       "      <td>13</td>\n",
       "      <td>8</td>\n",
       "      <td>Гражданство: Казахстан</td>\n",
       "      <td>Мужчина</td>\n",
       "      <td>https://hh.kz//resume/b7f2197800057fa8e30039ed...</td>\n",
       "    </tr>\n",
       "    <tr>\n",
       "      <th>13</th>\n",
       "      <td>Разработчик Python</td>\n",
       "      <td>Программист, разработчик</td>\n",
       "      <td>0</td>\n",
       "      <td>21</td>\n",
       "      <td>Занятость: проектная работа, стажировка, части...</td>\n",
       "      <td>График работы: удаленная работа, гибкий график...</td>\n",
       "      <td>11</td>\n",
       "      <td>0</td>\n",
       "      <td>Гражданство: Казахстан</td>\n",
       "      <td>Мужчина</td>\n",
       "      <td>https://hh.kz//resume/9b0d68e00007253dc80039ed...</td>\n",
       "    </tr>\n",
       "    <tr>\n",
       "      <th>18</th>\n",
       "      <td>Python Developer</td>\n",
       "      <td>Программист, разработчик</td>\n",
       "      <td>0</td>\n",
       "      <td>20</td>\n",
       "      <td>Занятость: стажировка, частичная занятость, пр...</td>\n",
       "      <td>График работы: гибкий график, полный день, сме...</td>\n",
       "      <td>1</td>\n",
       "      <td>9</td>\n",
       "      <td>Гражданство: Казахстан</td>\n",
       "      <td>Мужчина</td>\n",
       "      <td>https://hh.kz//resume/3df31a3a0008fc3e540039ed...</td>\n",
       "    </tr>\n",
       "    <tr>\n",
       "      <th>17</th>\n",
       "      <td>Data scientist, machine learning, web developer</td>\n",
       "      <td>Программист, разработчик</td>\n",
       "      <td>0</td>\n",
       "      <td>not required</td>\n",
       "      <td>Занятость: полная занятость</td>\n",
       "      <td>График работы: полный день</td>\n",
       "      <td>3</td>\n",
       "      <td>8</td>\n",
       "      <td>Гражданство: Казахстан</td>\n",
       "      <td>Мужчина</td>\n",
       "      <td>https://hh.kz//resume/aae6295a0007681b860039ed...</td>\n",
       "    </tr>\n",
       "  </tbody>\n",
       "</table>\n",
       "</div>"
      ],
      "text/plain": [
       "                                              Title  \\\n",
       "5                                  Python developer   \n",
       "8                          Python backend developer   \n",
       "15                         Python, Java разработчик   \n",
       "6                                  Python Developer   \n",
       "4                                  Python Developer   \n",
       "9                              Junior Data Engineer   \n",
       "0                                  Python Developer   \n",
       "13                               Разработчик Python   \n",
       "18                                 Python Developer   \n",
       "17  Data scientist, machine learning, web developer   \n",
       "\n",
       "                  Specialization   Salary           Age  \\\n",
       "5       Программист, разработчик  1000000            41   \n",
       "8       Программист, разработчик   670500            20   \n",
       "15      Программист, разработчик   400000            26   \n",
       "6       Программист, разработчик   312900            21   \n",
       "4       Программист, разработчик   300000            20   \n",
       "9   BI-аналитик, аналитик данных    60000            25   \n",
       "0       Программист, разработчик        0            38   \n",
       "13      Программист, разработчик        0            21   \n",
       "18      Программист, разработчик        0            20   \n",
       "17      Программист, разработчик        0  not required   \n",
       "\n",
       "                                           Employment  \\\n",
       "5   Занятость: частичная занятость, проектная рабо...   \n",
       "8   Занятость: стажировка, частичная занятость, пр...   \n",
       "15  Занятость: частичная занятость, проектная рабо...   \n",
       "6   Занятость: стажировка, частичная занятость, пр...   \n",
       "4    Занятость: частичная занятость, полная занятость   \n",
       "9   Занятость: стажировка, частичная занятость, пр...   \n",
       "0   Занятость: стажировка, частичная занятость, пр...   \n",
       "13  Занятость: проектная работа, стажировка, части...   \n",
       "18  Занятость: стажировка, частичная занятость, пр...   \n",
       "17                        Занятость: полная занятость   \n",
       "\n",
       "                                        Work schedule  Experience years  \\\n",
       "5   График работы: гибкий график, полный день, сме...                21   \n",
       "8   График работы: гибкий график, полный день, уда...                 2   \n",
       "15  График работы: гибкий график, полный день, сме...                 1   \n",
       "6   График работы: гибкий график, полный день, сме...                 1   \n",
       "4   График работы: гибкий график, полный день, уда...                 6   \n",
       "9   График работы: гибкий график, полный день, уда...                 3   \n",
       "0   График работы: гибкий график, полный день, сме...                13   \n",
       "13  График работы: удаленная работа, гибкий график...                11   \n",
       "18  График работы: гибкий график, полный день, сме...                 1   \n",
       "17                         График работы: полный день                 3   \n",
       "\n",
       "    Experience month              Citizenship      Sex  \\\n",
       "5                  5   Гражданство: Казахстан  Мужчина   \n",
       "8                  3  Гражданство: Узбекистан  Мужчина   \n",
       "15                10   Гражданство: Казахстан  Мужчина   \n",
       "6                 10   Гражданство: Казахстан  Мужчина   \n",
       "4                  0   Гражданство: Казахстан  Мужчина   \n",
       "9                  3      Гражданство: Россия  Мужчина   \n",
       "0                  8   Гражданство: Казахстан  Мужчина   \n",
       "13                 0   Гражданство: Казахстан  Мужчина   \n",
       "18                 9   Гражданство: Казахстан  Мужчина   \n",
       "17                 8   Гражданство: Казахстан  Мужчина   \n",
       "\n",
       "                                       link to resume  \n",
       "5   https://hh.kz//resume/0827db430000e72e6e0039ed...  \n",
       "8   https://hh.kz//resume/5772ea490008e3ab8a0039ed...  \n",
       "15  https://hh.kz//resume/cca06a6100060bf5e60039ed...  \n",
       "6   https://hh.kz//resume/05be7fa80009200b590039ed...  \n",
       "4   https://hh.kz//resume/559ada080008311e020039ed...  \n",
       "9   https://hh.kz//resume/6166828a0006861b5f0039ed...  \n",
       "0   https://hh.kz//resume/b7f2197800057fa8e30039ed...  \n",
       "13  https://hh.kz//resume/9b0d68e00007253dc80039ed...  \n",
       "18  https://hh.kz//resume/3df31a3a0008fc3e540039ed...  \n",
       "17  https://hh.kz//resume/aae6295a0007681b860039ed...  "
      ]
     },
     "execution_count": 39,
     "metadata": {},
     "output_type": "execute_result"
    }
   ],
   "source": [
    "data.sort_values([\"Salary\"], ascending=False).head(10)"
   ]
  },
  {
   "cell_type": "markdown",
   "id": "a8bc1b16",
   "metadata": {},
   "source": [
    " "
   ]
  },
  {
   "cell_type": "markdown",
   "id": "94c9bc9c",
   "metadata": {},
   "source": [
    " "
   ]
  },
  {
   "cell_type": "markdown",
   "id": "9829857a",
   "metadata": {},
   "source": [
    " "
   ]
  },
  {
   "cell_type": "markdown",
   "id": "964dfb94",
   "metadata": {},
   "source": [
    "Sorted data by \"Age\" and output first 10 rows of data"
   ]
  },
  {
   "cell_type": "code",
   "execution_count": 40,
   "id": "d839f562",
   "metadata": {},
   "outputs": [
    {
     "data": {
      "text/html": [
       "<div>\n",
       "<style scoped>\n",
       "    .dataframe tbody tr th:only-of-type {\n",
       "        vertical-align: middle;\n",
       "    }\n",
       "\n",
       "    .dataframe tbody tr th {\n",
       "        vertical-align: top;\n",
       "    }\n",
       "\n",
       "    .dataframe thead th {\n",
       "        text-align: right;\n",
       "    }\n",
       "</style>\n",
       "<table border=\"1\" class=\"dataframe\">\n",
       "  <thead>\n",
       "    <tr style=\"text-align: right;\">\n",
       "      <th></th>\n",
       "      <th>Title</th>\n",
       "      <th>Specialization</th>\n",
       "      <th>Salary</th>\n",
       "      <th>Age</th>\n",
       "      <th>Employment</th>\n",
       "      <th>Work schedule</th>\n",
       "      <th>Experience years</th>\n",
       "      <th>Experience month</th>\n",
       "      <th>Citizenship</th>\n",
       "      <th>Sex</th>\n",
       "      <th>link to resume</th>\n",
       "    </tr>\n",
       "  </thead>\n",
       "  <tbody>\n",
       "    <tr>\n",
       "      <th>17</th>\n",
       "      <td>Data scientist, machine learning, web developer</td>\n",
       "      <td>Программист, разработчик</td>\n",
       "      <td>0</td>\n",
       "      <td>not required</td>\n",
       "      <td>Занятость: полная занятость</td>\n",
       "      <td>График работы: полный день</td>\n",
       "      <td>3</td>\n",
       "      <td>8</td>\n",
       "      <td>Гражданство: Казахстан</td>\n",
       "      <td>Мужчина</td>\n",
       "      <td>https://hh.kz//resume/aae6295a0007681b860039ed...</td>\n",
       "    </tr>\n",
       "    <tr>\n",
       "      <th>5</th>\n",
       "      <td>Python developer</td>\n",
       "      <td>Программист, разработчик</td>\n",
       "      <td>1000000</td>\n",
       "      <td>41</td>\n",
       "      <td>Занятость: частичная занятость, проектная рабо...</td>\n",
       "      <td>График работы: гибкий график, полный день, сме...</td>\n",
       "      <td>21</td>\n",
       "      <td>5</td>\n",
       "      <td>Гражданство: Казахстан</td>\n",
       "      <td>Мужчина</td>\n",
       "      <td>https://hh.kz//resume/0827db430000e72e6e0039ed...</td>\n",
       "    </tr>\n",
       "    <tr>\n",
       "      <th>0</th>\n",
       "      <td>Python Developer</td>\n",
       "      <td>Программист, разработчик</td>\n",
       "      <td>0</td>\n",
       "      <td>38</td>\n",
       "      <td>Занятость: стажировка, частичная занятость, пр...</td>\n",
       "      <td>График работы: гибкий график, полный день, сме...</td>\n",
       "      <td>13</td>\n",
       "      <td>8</td>\n",
       "      <td>Гражданство: Казахстан</td>\n",
       "      <td>Мужчина</td>\n",
       "      <td>https://hh.kz//resume/b7f2197800057fa8e30039ed...</td>\n",
       "    </tr>\n",
       "    <tr>\n",
       "      <th>11</th>\n",
       "      <td>Python Developer</td>\n",
       "      <td>Программист, разработчик</td>\n",
       "      <td>0</td>\n",
       "      <td>32</td>\n",
       "      <td>Занятость: частичная занятость, полная занятость</td>\n",
       "      <td>График работы: полный день, удаленная работа</td>\n",
       "      <td>8</td>\n",
       "      <td>1</td>\n",
       "      <td>Гражданство: Казахстан</td>\n",
       "      <td>Мужчина</td>\n",
       "      <td>https://hh.kz//resume/c02a43dc00015323430039ed...</td>\n",
       "    </tr>\n",
       "    <tr>\n",
       "      <th>3</th>\n",
       "      <td>Программист Python</td>\n",
       "      <td>Programmer, developer</td>\n",
       "      <td>0</td>\n",
       "      <td>30</td>\n",
       "      <td>Employment: full time</td>\n",
       "      <td>Work schedule: full day</td>\n",
       "      <td>5</td>\n",
       "      <td>6</td>\n",
       "      <td>Citizenship: Russia</td>\n",
       "      <td>Male</td>\n",
       "      <td>https://hh.kz//resume/69dd143c0003a1f6f20039ed...</td>\n",
       "    </tr>\n",
       "    <tr>\n",
       "      <th>10</th>\n",
       "      <td>Программист Python</td>\n",
       "      <td>Программист, разработчик</td>\n",
       "      <td>0</td>\n",
       "      <td>28</td>\n",
       "      <td>Занятость: стажировка, полная занятость</td>\n",
       "      <td>График работы: полный день, удаленная работа</td>\n",
       "      <td>6</td>\n",
       "      <td>4</td>\n",
       "      <td>Гражданство: Казахстан</td>\n",
       "      <td>Мужчина</td>\n",
       "      <td>https://hh.kz//resume/7411219c00081aed9e0039ed...</td>\n",
       "    </tr>\n",
       "    <tr>\n",
       "      <th>15</th>\n",
       "      <td>Python, Java разработчик</td>\n",
       "      <td>Программист, разработчик</td>\n",
       "      <td>400000</td>\n",
       "      <td>26</td>\n",
       "      <td>Занятость: частичная занятость, проектная рабо...</td>\n",
       "      <td>График работы: гибкий график, полный день, сме...</td>\n",
       "      <td>1</td>\n",
       "      <td>10</td>\n",
       "      <td>Гражданство: Казахстан</td>\n",
       "      <td>Мужчина</td>\n",
       "      <td>https://hh.kz//resume/cca06a6100060bf5e60039ed...</td>\n",
       "    </tr>\n",
       "    <tr>\n",
       "      <th>9</th>\n",
       "      <td>Junior Data Engineer</td>\n",
       "      <td>BI-аналитик, аналитик данных</td>\n",
       "      <td>60000</td>\n",
       "      <td>25</td>\n",
       "      <td>Занятость: стажировка, частичная занятость, пр...</td>\n",
       "      <td>График работы: гибкий график, полный день, уда...</td>\n",
       "      <td>3</td>\n",
       "      <td>3</td>\n",
       "      <td>Гражданство: Россия</td>\n",
       "      <td>Мужчина</td>\n",
       "      <td>https://hh.kz//resume/6166828a0006861b5f0039ed...</td>\n",
       "    </tr>\n",
       "    <tr>\n",
       "      <th>12</th>\n",
       "      <td>Программист-разработчик</td>\n",
       "      <td>Программист, разработчик</td>\n",
       "      <td>0</td>\n",
       "      <td>24</td>\n",
       "      <td>Занятость: полная занятость</td>\n",
       "      <td>График работы: полный день</td>\n",
       "      <td>1</td>\n",
       "      <td>7</td>\n",
       "      <td>Гражданство: Казахстан</td>\n",
       "      <td>Мужчина</td>\n",
       "      <td>https://hh.kz//resume/e0fede4b00080b91250039ed...</td>\n",
       "    </tr>\n",
       "    <tr>\n",
       "      <th>1</th>\n",
       "      <td>Python разработчик</td>\n",
       "      <td>Программист, разработчик</td>\n",
       "      <td>0</td>\n",
       "      <td>23</td>\n",
       "      <td>Занятость: полная занятость</td>\n",
       "      <td>График работы: удаленная работа</td>\n",
       "      <td>1</td>\n",
       "      <td>8</td>\n",
       "      <td>Гражданство: Россия</td>\n",
       "      <td>Мужчина</td>\n",
       "      <td>https://hh.kz//resume/c5ffe3dc00063777b90039ed...</td>\n",
       "    </tr>\n",
       "  </tbody>\n",
       "</table>\n",
       "</div>"
      ],
      "text/plain": [
       "                                              Title  \\\n",
       "17  Data scientist, machine learning, web developer   \n",
       "5                                  Python developer   \n",
       "0                                  Python Developer   \n",
       "11                                 Python Developer   \n",
       "3                                Программист Python   \n",
       "10                               Программист Python   \n",
       "15                         Python, Java разработчик   \n",
       "9                              Junior Data Engineer   \n",
       "12                          Программист-разработчик   \n",
       "1                                Python разработчик   \n",
       "\n",
       "                  Specialization   Salary           Age  \\\n",
       "17      Программист, разработчик        0  not required   \n",
       "5       Программист, разработчик  1000000            41   \n",
       "0       Программист, разработчик        0            38   \n",
       "11      Программист, разработчик        0            32   \n",
       "3          Programmer, developer        0            30   \n",
       "10      Программист, разработчик        0            28   \n",
       "15      Программист, разработчик   400000            26   \n",
       "9   BI-аналитик, аналитик данных    60000            25   \n",
       "12      Программист, разработчик        0            24   \n",
       "1       Программист, разработчик        0            23   \n",
       "\n",
       "                                           Employment  \\\n",
       "17                        Занятость: полная занятость   \n",
       "5   Занятость: частичная занятость, проектная рабо...   \n",
       "0   Занятость: стажировка, частичная занятость, пр...   \n",
       "11   Занятость: частичная занятость, полная занятость   \n",
       "3                               Employment: full time   \n",
       "10            Занятость: стажировка, полная занятость   \n",
       "15  Занятость: частичная занятость, проектная рабо...   \n",
       "9   Занятость: стажировка, частичная занятость, пр...   \n",
       "12                        Занятость: полная занятость   \n",
       "1                         Занятость: полная занятость   \n",
       "\n",
       "                                        Work schedule  Experience years  \\\n",
       "17                         График работы: полный день                 3   \n",
       "5   График работы: гибкий график, полный день, сме...                21   \n",
       "0   График работы: гибкий график, полный день, сме...                13   \n",
       "11       График работы: полный день, удаленная работа                 8   \n",
       "3                             Work schedule: full day                 5   \n",
       "10       График работы: полный день, удаленная работа                 6   \n",
       "15  График работы: гибкий график, полный день, сме...                 1   \n",
       "9   График работы: гибкий график, полный день, уда...                 3   \n",
       "12                         График работы: полный день                 1   \n",
       "1                     График работы: удаленная работа                 1   \n",
       "\n",
       "    Experience month             Citizenship      Sex  \\\n",
       "17                 8  Гражданство: Казахстан  Мужчина   \n",
       "5                  5  Гражданство: Казахстан  Мужчина   \n",
       "0                  8  Гражданство: Казахстан  Мужчина   \n",
       "11                 1  Гражданство: Казахстан  Мужчина   \n",
       "3                  6     Citizenship: Russia     Male   \n",
       "10                 4  Гражданство: Казахстан  Мужчина   \n",
       "15                10  Гражданство: Казахстан  Мужчина   \n",
       "9                  3     Гражданство: Россия  Мужчина   \n",
       "12                 7  Гражданство: Казахстан  Мужчина   \n",
       "1                  8     Гражданство: Россия  Мужчина   \n",
       "\n",
       "                                       link to resume  \n",
       "17  https://hh.kz//resume/aae6295a0007681b860039ed...  \n",
       "5   https://hh.kz//resume/0827db430000e72e6e0039ed...  \n",
       "0   https://hh.kz//resume/b7f2197800057fa8e30039ed...  \n",
       "11  https://hh.kz//resume/c02a43dc00015323430039ed...  \n",
       "3   https://hh.kz//resume/69dd143c0003a1f6f20039ed...  \n",
       "10  https://hh.kz//resume/7411219c00081aed9e0039ed...  \n",
       "15  https://hh.kz//resume/cca06a6100060bf5e60039ed...  \n",
       "9   https://hh.kz//resume/6166828a0006861b5f0039ed...  \n",
       "12  https://hh.kz//resume/e0fede4b00080b91250039ed...  \n",
       "1   https://hh.kz//resume/c5ffe3dc00063777b90039ed...  "
      ]
     },
     "execution_count": 40,
     "metadata": {},
     "output_type": "execute_result"
    }
   ],
   "source": [
    "data.sort_values([\"Age\"], ascending=False).head(10)"
   ]
  },
  {
   "cell_type": "markdown",
   "id": "c7acef69",
   "metadata": {},
   "source": [
    " "
   ]
  },
  {
   "cell_type": "markdown",
   "id": "5f2e6f56",
   "metadata": {},
   "source": [
    " "
   ]
  },
  {
   "cell_type": "markdown",
   "id": "291232b1",
   "metadata": {},
   "source": [
    " "
   ]
  },
  {
   "cell_type": "markdown",
   "id": "290f858b",
   "metadata": {},
   "source": [
    "Sorted data by \"Experience\" and output first 10 rows of data"
   ]
  },
  {
   "cell_type": "code",
   "execution_count": 41,
   "id": "331e1563",
   "metadata": {},
   "outputs": [
    {
     "data": {
      "text/html": [
       "<div>\n",
       "<style scoped>\n",
       "    .dataframe tbody tr th:only-of-type {\n",
       "        vertical-align: middle;\n",
       "    }\n",
       "\n",
       "    .dataframe tbody tr th {\n",
       "        vertical-align: top;\n",
       "    }\n",
       "\n",
       "    .dataframe thead th {\n",
       "        text-align: right;\n",
       "    }\n",
       "</style>\n",
       "<table border=\"1\" class=\"dataframe\">\n",
       "  <thead>\n",
       "    <tr style=\"text-align: right;\">\n",
       "      <th></th>\n",
       "      <th>Title</th>\n",
       "      <th>Specialization</th>\n",
       "      <th>Salary</th>\n",
       "      <th>Age</th>\n",
       "      <th>Employment</th>\n",
       "      <th>Work schedule</th>\n",
       "      <th>Experience years</th>\n",
       "      <th>Experience month</th>\n",
       "      <th>Citizenship</th>\n",
       "      <th>Sex</th>\n",
       "      <th>link to resume</th>\n",
       "    </tr>\n",
       "  </thead>\n",
       "  <tbody>\n",
       "    <tr>\n",
       "      <th>5</th>\n",
       "      <td>Python developer</td>\n",
       "      <td>Программист, разработчик</td>\n",
       "      <td>1000000</td>\n",
       "      <td>41</td>\n",
       "      <td>Занятость: частичная занятость, проектная рабо...</td>\n",
       "      <td>График работы: гибкий график, полный день, сме...</td>\n",
       "      <td>21</td>\n",
       "      <td>5</td>\n",
       "      <td>Гражданство: Казахстан</td>\n",
       "      <td>Мужчина</td>\n",
       "      <td>https://hh.kz//resume/0827db430000e72e6e0039ed...</td>\n",
       "    </tr>\n",
       "    <tr>\n",
       "      <th>0</th>\n",
       "      <td>Python Developer</td>\n",
       "      <td>Программист, разработчик</td>\n",
       "      <td>0</td>\n",
       "      <td>38</td>\n",
       "      <td>Занятость: стажировка, частичная занятость, пр...</td>\n",
       "      <td>График работы: гибкий график, полный день, сме...</td>\n",
       "      <td>13</td>\n",
       "      <td>8</td>\n",
       "      <td>Гражданство: Казахстан</td>\n",
       "      <td>Мужчина</td>\n",
       "      <td>https://hh.kz//resume/b7f2197800057fa8e30039ed...</td>\n",
       "    </tr>\n",
       "    <tr>\n",
       "      <th>13</th>\n",
       "      <td>Разработчик Python</td>\n",
       "      <td>Программист, разработчик</td>\n",
       "      <td>0</td>\n",
       "      <td>21</td>\n",
       "      <td>Занятость: проектная работа, стажировка, части...</td>\n",
       "      <td>График работы: удаленная работа, гибкий график...</td>\n",
       "      <td>11</td>\n",
       "      <td>0</td>\n",
       "      <td>Гражданство: Казахстан</td>\n",
       "      <td>Мужчина</td>\n",
       "      <td>https://hh.kz//resume/9b0d68e00007253dc80039ed...</td>\n",
       "    </tr>\n",
       "    <tr>\n",
       "      <th>11</th>\n",
       "      <td>Python Developer</td>\n",
       "      <td>Программист, разработчик</td>\n",
       "      <td>0</td>\n",
       "      <td>32</td>\n",
       "      <td>Занятость: частичная занятость, полная занятость</td>\n",
       "      <td>График работы: полный день, удаленная работа</td>\n",
       "      <td>8</td>\n",
       "      <td>1</td>\n",
       "      <td>Гражданство: Казахстан</td>\n",
       "      <td>Мужчина</td>\n",
       "      <td>https://hh.kz//resume/c02a43dc00015323430039ed...</td>\n",
       "    </tr>\n",
       "    <tr>\n",
       "      <th>10</th>\n",
       "      <td>Программист Python</td>\n",
       "      <td>Программист, разработчик</td>\n",
       "      <td>0</td>\n",
       "      <td>28</td>\n",
       "      <td>Занятость: стажировка, полная занятость</td>\n",
       "      <td>График работы: полный день, удаленная работа</td>\n",
       "      <td>6</td>\n",
       "      <td>4</td>\n",
       "      <td>Гражданство: Казахстан</td>\n",
       "      <td>Мужчина</td>\n",
       "      <td>https://hh.kz//resume/7411219c00081aed9e0039ed...</td>\n",
       "    </tr>\n",
       "    <tr>\n",
       "      <th>4</th>\n",
       "      <td>Python Developer</td>\n",
       "      <td>Программист, разработчик</td>\n",
       "      <td>300000</td>\n",
       "      <td>20</td>\n",
       "      <td>Занятость: частичная занятость, полная занятость</td>\n",
       "      <td>График работы: гибкий график, полный день, уда...</td>\n",
       "      <td>6</td>\n",
       "      <td>0</td>\n",
       "      <td>Гражданство: Казахстан</td>\n",
       "      <td>Мужчина</td>\n",
       "      <td>https://hh.kz//resume/559ada080008311e020039ed...</td>\n",
       "    </tr>\n",
       "    <tr>\n",
       "      <th>3</th>\n",
       "      <td>Программист Python</td>\n",
       "      <td>Programmer, developer</td>\n",
       "      <td>0</td>\n",
       "      <td>30</td>\n",
       "      <td>Employment: full time</td>\n",
       "      <td>Work schedule: full day</td>\n",
       "      <td>5</td>\n",
       "      <td>6</td>\n",
       "      <td>Citizenship: Russia</td>\n",
       "      <td>Male</td>\n",
       "      <td>https://hh.kz//resume/69dd143c0003a1f6f20039ed...</td>\n",
       "    </tr>\n",
       "    <tr>\n",
       "      <th>17</th>\n",
       "      <td>Data scientist, machine learning, web developer</td>\n",
       "      <td>Программист, разработчик</td>\n",
       "      <td>0</td>\n",
       "      <td>not required</td>\n",
       "      <td>Занятость: полная занятость</td>\n",
       "      <td>График работы: полный день</td>\n",
       "      <td>3</td>\n",
       "      <td>8</td>\n",
       "      <td>Гражданство: Казахстан</td>\n",
       "      <td>Мужчина</td>\n",
       "      <td>https://hh.kz//resume/aae6295a0007681b860039ed...</td>\n",
       "    </tr>\n",
       "    <tr>\n",
       "      <th>9</th>\n",
       "      <td>Junior Data Engineer</td>\n",
       "      <td>BI-аналитик, аналитик данных</td>\n",
       "      <td>60000</td>\n",
       "      <td>25</td>\n",
       "      <td>Занятость: стажировка, частичная занятость, пр...</td>\n",
       "      <td>График работы: гибкий график, полный день, уда...</td>\n",
       "      <td>3</td>\n",
       "      <td>3</td>\n",
       "      <td>Гражданство: Россия</td>\n",
       "      <td>Мужчина</td>\n",
       "      <td>https://hh.kz//resume/6166828a0006861b5f0039ed...</td>\n",
       "    </tr>\n",
       "    <tr>\n",
       "      <th>14</th>\n",
       "      <td>Python Backend разработчик</td>\n",
       "      <td>Программист, разработчик</td>\n",
       "      <td>0</td>\n",
       "      <td>23</td>\n",
       "      <td>Занятость: полная занятость</td>\n",
       "      <td>График работы: гибкий график, полный день, уда...</td>\n",
       "      <td>2</td>\n",
       "      <td>6</td>\n",
       "      <td>Гражданство: Казахстан</td>\n",
       "      <td>Мужчина</td>\n",
       "      <td>https://hh.kz//resume/138e489900087097110039ed...</td>\n",
       "    </tr>\n",
       "  </tbody>\n",
       "</table>\n",
       "</div>"
      ],
      "text/plain": [
       "                                              Title  \\\n",
       "5                                  Python developer   \n",
       "0                                  Python Developer   \n",
       "13                               Разработчик Python   \n",
       "11                                 Python Developer   \n",
       "10                               Программист Python   \n",
       "4                                  Python Developer   \n",
       "3                                Программист Python   \n",
       "17  Data scientist, machine learning, web developer   \n",
       "9                              Junior Data Engineer   \n",
       "14                       Python Backend разработчик   \n",
       "\n",
       "                  Specialization   Salary           Age  \\\n",
       "5       Программист, разработчик  1000000            41   \n",
       "0       Программист, разработчик        0            38   \n",
       "13      Программист, разработчик        0            21   \n",
       "11      Программист, разработчик        0            32   \n",
       "10      Программист, разработчик        0            28   \n",
       "4       Программист, разработчик   300000            20   \n",
       "3          Programmer, developer        0            30   \n",
       "17      Программист, разработчик        0  not required   \n",
       "9   BI-аналитик, аналитик данных    60000            25   \n",
       "14      Программист, разработчик        0            23   \n",
       "\n",
       "                                           Employment  \\\n",
       "5   Занятость: частичная занятость, проектная рабо...   \n",
       "0   Занятость: стажировка, частичная занятость, пр...   \n",
       "13  Занятость: проектная работа, стажировка, части...   \n",
       "11   Занятость: частичная занятость, полная занятость   \n",
       "10            Занятость: стажировка, полная занятость   \n",
       "4    Занятость: частичная занятость, полная занятость   \n",
       "3                               Employment: full time   \n",
       "17                        Занятость: полная занятость   \n",
       "9   Занятость: стажировка, частичная занятость, пр...   \n",
       "14                        Занятость: полная занятость   \n",
       "\n",
       "                                        Work schedule  Experience years  \\\n",
       "5   График работы: гибкий график, полный день, сме...                21   \n",
       "0   График работы: гибкий график, полный день, сме...                13   \n",
       "13  График работы: удаленная работа, гибкий график...                11   \n",
       "11       График работы: полный день, удаленная работа                 8   \n",
       "10       График работы: полный день, удаленная работа                 6   \n",
       "4   График работы: гибкий график, полный день, уда...                 6   \n",
       "3                             Work schedule: full day                 5   \n",
       "17                         График работы: полный день                 3   \n",
       "9   График работы: гибкий график, полный день, уда...                 3   \n",
       "14  График работы: гибкий график, полный день, уда...                 2   \n",
       "\n",
       "    Experience month             Citizenship      Sex  \\\n",
       "5                  5  Гражданство: Казахстан  Мужчина   \n",
       "0                  8  Гражданство: Казахстан  Мужчина   \n",
       "13                 0  Гражданство: Казахстан  Мужчина   \n",
       "11                 1  Гражданство: Казахстан  Мужчина   \n",
       "10                 4  Гражданство: Казахстан  Мужчина   \n",
       "4                  0  Гражданство: Казахстан  Мужчина   \n",
       "3                  6     Citizenship: Russia     Male   \n",
       "17                 8  Гражданство: Казахстан  Мужчина   \n",
       "9                  3     Гражданство: Россия  Мужчина   \n",
       "14                 6  Гражданство: Казахстан  Мужчина   \n",
       "\n",
       "                                       link to resume  \n",
       "5   https://hh.kz//resume/0827db430000e72e6e0039ed...  \n",
       "0   https://hh.kz//resume/b7f2197800057fa8e30039ed...  \n",
       "13  https://hh.kz//resume/9b0d68e00007253dc80039ed...  \n",
       "11  https://hh.kz//resume/c02a43dc00015323430039ed...  \n",
       "10  https://hh.kz//resume/7411219c00081aed9e0039ed...  \n",
       "4   https://hh.kz//resume/559ada080008311e020039ed...  \n",
       "3   https://hh.kz//resume/69dd143c0003a1f6f20039ed...  \n",
       "17  https://hh.kz//resume/aae6295a0007681b860039ed...  \n",
       "9   https://hh.kz//resume/6166828a0006861b5f0039ed...  \n",
       "14  https://hh.kz//resume/138e489900087097110039ed...  "
      ]
     },
     "execution_count": 41,
     "metadata": {},
     "output_type": "execute_result"
    }
   ],
   "source": [
    "data.sort_values([\"Experience years\", \"Experience month\"], ascending=False).head(10)"
   ]
  },
  {
   "cell_type": "markdown",
   "id": "83c23a57",
   "metadata": {},
   "source": [
    " "
   ]
  },
  {
   "cell_type": "markdown",
   "id": "04249613",
   "metadata": {},
   "source": [
    " "
   ]
  },
  {
   "cell_type": "markdown",
   "id": "6124e9f5",
   "metadata": {},
   "source": [
    " "
   ]
  },
  {
   "cell_type": "markdown",
   "id": "d269a21c",
   "metadata": {},
   "source": [
    "Sorted data by \"Title\" and output first 10 rows of data"
   ]
  },
  {
   "cell_type": "code",
   "execution_count": 42,
   "id": "497f2ed6",
   "metadata": {},
   "outputs": [
    {
     "data": {
      "text/html": [
       "<div>\n",
       "<style scoped>\n",
       "    .dataframe tbody tr th:only-of-type {\n",
       "        vertical-align: middle;\n",
       "    }\n",
       "\n",
       "    .dataframe tbody tr th {\n",
       "        vertical-align: top;\n",
       "    }\n",
       "\n",
       "    .dataframe thead th {\n",
       "        text-align: right;\n",
       "    }\n",
       "</style>\n",
       "<table border=\"1\" class=\"dataframe\">\n",
       "  <thead>\n",
       "    <tr style=\"text-align: right;\">\n",
       "      <th></th>\n",
       "      <th>Title</th>\n",
       "      <th>Specialization</th>\n",
       "      <th>Salary</th>\n",
       "      <th>Age</th>\n",
       "      <th>Employment</th>\n",
       "      <th>Work schedule</th>\n",
       "      <th>Experience years</th>\n",
       "      <th>Experience month</th>\n",
       "      <th>Citizenship</th>\n",
       "      <th>Sex</th>\n",
       "      <th>link to resume</th>\n",
       "    </tr>\n",
       "  </thead>\n",
       "  <tbody>\n",
       "    <tr>\n",
       "      <th>13</th>\n",
       "      <td>Разработчик Python</td>\n",
       "      <td>Программист, разработчик</td>\n",
       "      <td>0</td>\n",
       "      <td>21</td>\n",
       "      <td>Занятость: проектная работа, стажировка, части...</td>\n",
       "      <td>График работы: удаленная работа, гибкий график...</td>\n",
       "      <td>11</td>\n",
       "      <td>0</td>\n",
       "      <td>Гражданство: Казахстан</td>\n",
       "      <td>Мужчина</td>\n",
       "      <td>https://hh.kz//resume/9b0d68e00007253dc80039ed...</td>\n",
       "    </tr>\n",
       "    <tr>\n",
       "      <th>12</th>\n",
       "      <td>Программист-разработчик</td>\n",
       "      <td>Программист, разработчик</td>\n",
       "      <td>0</td>\n",
       "      <td>24</td>\n",
       "      <td>Занятость: полная занятость</td>\n",
       "      <td>График работы: полный день</td>\n",
       "      <td>1</td>\n",
       "      <td>7</td>\n",
       "      <td>Гражданство: Казахстан</td>\n",
       "      <td>Мужчина</td>\n",
       "      <td>https://hh.kz//resume/e0fede4b00080b91250039ed...</td>\n",
       "    </tr>\n",
       "    <tr>\n",
       "      <th>16</th>\n",
       "      <td>Программист-разработчик</td>\n",
       "      <td>Programmer, developer</td>\n",
       "      <td>0</td>\n",
       "      <td>22</td>\n",
       "      <td>Employment: part time, full time</td>\n",
       "      <td>Work schedule: flexible schedule, full day, sh...</td>\n",
       "      <td>1</td>\n",
       "      <td>9</td>\n",
       "      <td>Citizenship: Kazakhstan</td>\n",
       "      <td>Male</td>\n",
       "      <td>https://hh.kz//resume/842edaa30008493f7d0039ed...</td>\n",
       "    </tr>\n",
       "    <tr>\n",
       "      <th>10</th>\n",
       "      <td>Программист Python</td>\n",
       "      <td>Программист, разработчик</td>\n",
       "      <td>0</td>\n",
       "      <td>28</td>\n",
       "      <td>Занятость: стажировка, полная занятость</td>\n",
       "      <td>График работы: полный день, удаленная работа</td>\n",
       "      <td>6</td>\n",
       "      <td>4</td>\n",
       "      <td>Гражданство: Казахстан</td>\n",
       "      <td>Мужчина</td>\n",
       "      <td>https://hh.kz//resume/7411219c00081aed9e0039ed...</td>\n",
       "    </tr>\n",
       "    <tr>\n",
       "      <th>2</th>\n",
       "      <td>Программист Python</td>\n",
       "      <td>Программист, разработчик</td>\n",
       "      <td>0</td>\n",
       "      <td>22</td>\n",
       "      <td>Занятость: проектная работа, стажировка, части...</td>\n",
       "      <td>График работы: удаленная работа, гибкий график...</td>\n",
       "      <td>1</td>\n",
       "      <td>8</td>\n",
       "      <td>Гражданство: Беларусь</td>\n",
       "      <td>Мужчина</td>\n",
       "      <td>https://hh.kz//resume/cdd1757d0007268d4d0039ed...</td>\n",
       "    </tr>\n",
       "    <tr>\n",
       "      <th>3</th>\n",
       "      <td>Программист Python</td>\n",
       "      <td>Programmer, developer</td>\n",
       "      <td>0</td>\n",
       "      <td>30</td>\n",
       "      <td>Employment: full time</td>\n",
       "      <td>Work schedule: full day</td>\n",
       "      <td>5</td>\n",
       "      <td>6</td>\n",
       "      <td>Citizenship: Russia</td>\n",
       "      <td>Male</td>\n",
       "      <td>https://hh.kz//resume/69dd143c0003a1f6f20039ed...</td>\n",
       "    </tr>\n",
       "    <tr>\n",
       "      <th>7</th>\n",
       "      <td>middle python developer</td>\n",
       "      <td>Programmer, developer</td>\n",
       "      <td>0</td>\n",
       "      <td>21</td>\n",
       "      <td>Employment: part time, project work, full time</td>\n",
       "      <td>Work schedule: flexible schedule, full day, sh...</td>\n",
       "      <td>2</td>\n",
       "      <td>5</td>\n",
       "      <td>Citizenship: Kazakhstan</td>\n",
       "      <td>Male</td>\n",
       "      <td>https://hh.kz//resume/516029be000708f5ba0039ed...</td>\n",
       "    </tr>\n",
       "    <tr>\n",
       "      <th>15</th>\n",
       "      <td>Python, Java разработчик</td>\n",
       "      <td>Программист, разработчик</td>\n",
       "      <td>400000</td>\n",
       "      <td>26</td>\n",
       "      <td>Занятость: частичная занятость, проектная рабо...</td>\n",
       "      <td>График работы: гибкий график, полный день, сме...</td>\n",
       "      <td>1</td>\n",
       "      <td>10</td>\n",
       "      <td>Гражданство: Казахстан</td>\n",
       "      <td>Мужчина</td>\n",
       "      <td>https://hh.kz//resume/cca06a6100060bf5e60039ed...</td>\n",
       "    </tr>\n",
       "    <tr>\n",
       "      <th>1</th>\n",
       "      <td>Python разработчик</td>\n",
       "      <td>Программист, разработчик</td>\n",
       "      <td>0</td>\n",
       "      <td>23</td>\n",
       "      <td>Занятость: полная занятость</td>\n",
       "      <td>График работы: удаленная работа</td>\n",
       "      <td>1</td>\n",
       "      <td>8</td>\n",
       "      <td>Гражданство: Россия</td>\n",
       "      <td>Мужчина</td>\n",
       "      <td>https://hh.kz//resume/c5ffe3dc00063777b90039ed...</td>\n",
       "    </tr>\n",
       "    <tr>\n",
       "      <th>5</th>\n",
       "      <td>Python developer</td>\n",
       "      <td>Программист, разработчик</td>\n",
       "      <td>1000000</td>\n",
       "      <td>41</td>\n",
       "      <td>Занятость: частичная занятость, проектная рабо...</td>\n",
       "      <td>График работы: гибкий график, полный день, сме...</td>\n",
       "      <td>21</td>\n",
       "      <td>5</td>\n",
       "      <td>Гражданство: Казахстан</td>\n",
       "      <td>Мужчина</td>\n",
       "      <td>https://hh.kz//resume/0827db430000e72e6e0039ed...</td>\n",
       "    </tr>\n",
       "  </tbody>\n",
       "</table>\n",
       "</div>"
      ],
      "text/plain": [
       "                       Title            Specialization   Salary Age  \\\n",
       "13        Разработчик Python  Программист, разработчик        0  21   \n",
       "12   Программист-разработчик  Программист, разработчик        0  24   \n",
       "16   Программист-разработчик     Programmer, developer        0  22   \n",
       "10        Программист Python  Программист, разработчик        0  28   \n",
       "2         Программист Python  Программист, разработчик        0  22   \n",
       "3         Программист Python     Programmer, developer        0  30   \n",
       "7    middle python developer     Programmer, developer        0  21   \n",
       "15  Python, Java разработчик  Программист, разработчик   400000  26   \n",
       "1         Python разработчик  Программист, разработчик        0  23   \n",
       "5           Python developer  Программист, разработчик  1000000  41   \n",
       "\n",
       "                                           Employment  \\\n",
       "13  Занятость: проектная работа, стажировка, части...   \n",
       "12                        Занятость: полная занятость   \n",
       "16                   Employment: part time, full time   \n",
       "10            Занятость: стажировка, полная занятость   \n",
       "2   Занятость: проектная работа, стажировка, части...   \n",
       "3                               Employment: full time   \n",
       "7      Employment: part time, project work, full time   \n",
       "15  Занятость: частичная занятость, проектная рабо...   \n",
       "1                         Занятость: полная занятость   \n",
       "5   Занятость: частичная занятость, проектная рабо...   \n",
       "\n",
       "                                        Work schedule  Experience years  \\\n",
       "13  График работы: удаленная работа, гибкий график...                11   \n",
       "12                         График работы: полный день                 1   \n",
       "16  Work schedule: flexible schedule, full day, sh...                 1   \n",
       "10       График работы: полный день, удаленная работа                 6   \n",
       "2   График работы: удаленная работа, гибкий график...                 1   \n",
       "3                             Work schedule: full day                 5   \n",
       "7   Work schedule: flexible schedule, full day, sh...                 2   \n",
       "15  График работы: гибкий график, полный день, сме...                 1   \n",
       "1                     График работы: удаленная работа                 1   \n",
       "5   График работы: гибкий график, полный день, сме...                21   \n",
       "\n",
       "    Experience month              Citizenship      Sex  \\\n",
       "13                 0   Гражданство: Казахстан  Мужчина   \n",
       "12                 7   Гражданство: Казахстан  Мужчина   \n",
       "16                 9  Citizenship: Kazakhstan     Male   \n",
       "10                 4   Гражданство: Казахстан  Мужчина   \n",
       "2                  8    Гражданство: Беларусь  Мужчина   \n",
       "3                  6      Citizenship: Russia     Male   \n",
       "7                  5  Citizenship: Kazakhstan     Male   \n",
       "15                10   Гражданство: Казахстан  Мужчина   \n",
       "1                  8      Гражданство: Россия  Мужчина   \n",
       "5                  5   Гражданство: Казахстан  Мужчина   \n",
       "\n",
       "                                       link to resume  \n",
       "13  https://hh.kz//resume/9b0d68e00007253dc80039ed...  \n",
       "12  https://hh.kz//resume/e0fede4b00080b91250039ed...  \n",
       "16  https://hh.kz//resume/842edaa30008493f7d0039ed...  \n",
       "10  https://hh.kz//resume/7411219c00081aed9e0039ed...  \n",
       "2   https://hh.kz//resume/cdd1757d0007268d4d0039ed...  \n",
       "3   https://hh.kz//resume/69dd143c0003a1f6f20039ed...  \n",
       "7   https://hh.kz//resume/516029be000708f5ba0039ed...  \n",
       "15  https://hh.kz//resume/cca06a6100060bf5e60039ed...  \n",
       "1   https://hh.kz//resume/c5ffe3dc00063777b90039ed...  \n",
       "5   https://hh.kz//resume/0827db430000e72e6e0039ed...  "
      ]
     },
     "execution_count": 42,
     "metadata": {},
     "output_type": "execute_result"
    }
   ],
   "source": [
    "data.sort_values([\"Title\"], ascending=False).head(10)"
   ]
  },
  {
   "cell_type": "markdown",
   "id": "cf94b88e",
   "metadata": {},
   "source": [
    "========================================================================================================================="
   ]
  },
  {
   "cell_type": "markdown",
   "id": "0a1e6c4a",
   "metadata": {},
   "source": [
    " "
   ]
  },
  {
   "cell_type": "markdown",
   "id": "fbf05989",
   "metadata": {},
   "source": [
    " "
   ]
  },
  {
   "cell_type": "markdown",
   "id": "4701fb29",
   "metadata": {},
   "source": [
    " "
   ]
  },
  {
   "cell_type": "markdown",
   "id": "2b614648",
   "metadata": {},
   "source": [
    "Min salary"
   ]
  },
  {
   "cell_type": "code",
   "execution_count": 39,
   "id": "cb666fa5",
   "metadata": {
    "scrolled": true
   },
   "outputs": [
    {
     "data": {
      "text/html": [
       "<div>\n",
       "<style scoped>\n",
       "    .dataframe tbody tr th:only-of-type {\n",
       "        vertical-align: middle;\n",
       "    }\n",
       "\n",
       "    .dataframe tbody tr th {\n",
       "        vertical-align: top;\n",
       "    }\n",
       "\n",
       "    .dataframe thead th {\n",
       "        text-align: right;\n",
       "    }\n",
       "</style>\n",
       "<table border=\"1\" class=\"dataframe\">\n",
       "  <thead>\n",
       "    <tr style=\"text-align: right;\">\n",
       "      <th></th>\n",
       "      <th>Title</th>\n",
       "      <th>Specialization</th>\n",
       "      <th>Salary</th>\n",
       "      <th>Age</th>\n",
       "      <th>Employment</th>\n",
       "      <th>Work schedule</th>\n",
       "      <th>Experience years</th>\n",
       "      <th>Experience month</th>\n",
       "      <th>Citizenship</th>\n",
       "      <th>Sex</th>\n",
       "      <th>link to resume</th>\n",
       "    </tr>\n",
       "  </thead>\n",
       "  <tbody>\n",
       "    <tr>\n",
       "      <th>0</th>\n",
       "      <td>Python Developer</td>\n",
       "      <td>Программист, разработчик</td>\n",
       "      <td>0</td>\n",
       "      <td>38</td>\n",
       "      <td>Занятость: стажировка, частичная занятость, пр...</td>\n",
       "      <td>График работы: гибкий график, полный день, сме...</td>\n",
       "      <td>13</td>\n",
       "      <td>8</td>\n",
       "      <td>Гражданство: Казахстан</td>\n",
       "      <td>Мужчина</td>\n",
       "      <td>https://hh.kz//resume/b7f2197800057fa8e30039ed...</td>\n",
       "    </tr>\n",
       "  </tbody>\n",
       "</table>\n",
       "</div>"
      ],
      "text/plain": [
       "              Title            Specialization  Salary Age  \\\n",
       "0  Python Developer  Программист, разработчик       0  38   \n",
       "\n",
       "                                          Employment  \\\n",
       "0  Занятость: стажировка, частичная занятость, пр...   \n",
       "\n",
       "                                       Work schedule  Experience years  \\\n",
       "0  График работы: гибкий график, полный день, сме...                13   \n",
       "\n",
       "   Experience month             Citizenship      Sex  \\\n",
       "0                 8  Гражданство: Казахстан  Мужчина   \n",
       "\n",
       "                                      link to resume  \n",
       "0  https://hh.kz//resume/b7f2197800057fa8e30039ed...  "
      ]
     },
     "execution_count": 39,
     "metadata": {},
     "output_type": "execute_result"
    }
   ],
   "source": [
    "min_ind = data[\"Salary\"].idxmin()\n",
    "data[data.index == min_ind]"
   ]
  },
  {
   "cell_type": "markdown",
   "id": "f42ae3b6",
   "metadata": {},
   "source": [
    " "
   ]
  },
  {
   "cell_type": "markdown",
   "id": "5917747f",
   "metadata": {},
   "source": [
    " "
   ]
  },
  {
   "cell_type": "markdown",
   "id": "aecc9e73",
   "metadata": {},
   "source": [
    " "
   ]
  },
  {
   "cell_type": "markdown",
   "id": "b7b13cda",
   "metadata": {},
   "source": [
    "Max salary"
   ]
  },
  {
   "cell_type": "code",
   "execution_count": 4,
   "id": "60ea3681",
   "metadata": {
    "scrolled": true
   },
   "outputs": [
    {
     "data": {
      "text/html": [
       "<div>\n",
       "<style scoped>\n",
       "    .dataframe tbody tr th:only-of-type {\n",
       "        vertical-align: middle;\n",
       "    }\n",
       "\n",
       "    .dataframe tbody tr th {\n",
       "        vertical-align: top;\n",
       "    }\n",
       "\n",
       "    .dataframe thead th {\n",
       "        text-align: right;\n",
       "    }\n",
       "</style>\n",
       "<table border=\"1\" class=\"dataframe\">\n",
       "  <thead>\n",
       "    <tr style=\"text-align: right;\">\n",
       "      <th></th>\n",
       "      <th>Title</th>\n",
       "      <th>Specialization</th>\n",
       "      <th>Salary</th>\n",
       "      <th>Age</th>\n",
       "      <th>Employment</th>\n",
       "      <th>Work schedule</th>\n",
       "      <th>Experience years</th>\n",
       "      <th>Experience month</th>\n",
       "      <th>Citizenship</th>\n",
       "      <th>Sex</th>\n",
       "      <th>link to resume</th>\n",
       "    </tr>\n",
       "  </thead>\n",
       "  <tbody>\n",
       "    <tr>\n",
       "      <th>6</th>\n",
       "      <td>Python developer</td>\n",
       "      <td>Системный администратор</td>\n",
       "      <td>1000000</td>\n",
       "      <td>41</td>\n",
       "      <td>Занятость: частичная занятость, проектная рабо...</td>\n",
       "      <td>График работы: гибкий график, полный день, сме...</td>\n",
       "      <td>21</td>\n",
       "      <td>5</td>\n",
       "      <td>Гражданство: Казахстан</td>\n",
       "      <td>True</td>\n",
       "      <td>https://hh.kz//resume/0827db430000e72e6e0039ed...</td>\n",
       "    </tr>\n",
       "  </tbody>\n",
       "</table>\n",
       "</div>"
      ],
      "text/plain": [
       "              Title           Specialization   Salary Age  \\\n",
       "6  Python developer  Системный администратор  1000000  41   \n",
       "\n",
       "                                          Employment  \\\n",
       "6  Занятость: частичная занятость, проектная рабо...   \n",
       "\n",
       "                                       Work schedule  Experience years  \\\n",
       "6  График работы: гибкий график, полный день, сме...                21   \n",
       "\n",
       "   Experience month             Citizenship   Sex  \\\n",
       "6                 5  Гражданство: Казахстан  True   \n",
       "\n",
       "                                      link to resume  \n",
       "6  https://hh.kz//resume/0827db430000e72e6e0039ed...  "
      ]
     },
     "execution_count": 4,
     "metadata": {},
     "output_type": "execute_result"
    }
   ],
   "source": [
    "max_ind = data[\"Salary\"].idxmax()\n",
    "data[data.index == max_ind]"
   ]
  },
  {
   "cell_type": "markdown",
   "id": "1a5d2700",
   "metadata": {},
   "source": [
    " "
   ]
  },
  {
   "cell_type": "markdown",
   "id": "a819350d",
   "metadata": {},
   "source": [
    " "
   ]
  },
  {
   "cell_type": "markdown",
   "id": "98fb5766",
   "metadata": {},
   "source": [
    " "
   ]
  },
  {
   "cell_type": "markdown",
   "id": "ec6d8684",
   "metadata": {},
   "source": [
    "Average of salary"
   ]
  },
  {
   "cell_type": "code",
   "execution_count": 41,
   "id": "c3581306",
   "metadata": {
    "scrolled": true
   },
   "outputs": [
    {
     "data": {
      "text/plain": [
       "137170.0"
      ]
     },
     "execution_count": 41,
     "metadata": {},
     "output_type": "execute_result"
    }
   ],
   "source": [
    "data[\"Salary\"].mean()"
   ]
  },
  {
   "cell_type": "markdown",
   "id": "f81a5268",
   "metadata": {},
   "source": [
    "========================================================================================================================="
   ]
  },
  {
   "cell_type": "markdown",
   "id": "e163f86e",
   "metadata": {},
   "source": [
    " "
   ]
  },
  {
   "cell_type": "markdown",
   "id": "89d4f3a8",
   "metadata": {},
   "source": [
    " "
   ]
  },
  {
   "cell_type": "markdown",
   "id": "389259b9",
   "metadata": {},
   "source": [
    " "
   ]
  },
  {
   "cell_type": "markdown",
   "id": "8b8553f8",
   "metadata": {},
   "source": [
    "Dataframe where sex is male "
   ]
  },
  {
   "cell_type": "code",
   "execution_count": 24,
   "id": "62d2bf4f",
   "metadata": {},
   "outputs": [],
   "source": [
    "data_male = data[data[\"Sex\"] == True]"
   ]
  },
  {
   "cell_type": "markdown",
   "id": "ff8e8e2d",
   "metadata": {},
   "source": [
    " "
   ]
  },
  {
   "cell_type": "markdown",
   "id": "d10a48a5",
   "metadata": {},
   "source": [
    "Count male "
   ]
  },
  {
   "cell_type": "code",
   "execution_count": 62,
   "id": "e054bed3",
   "metadata": {},
   "outputs": [
    {
     "data": {
      "text/plain": [
       "19"
      ]
     },
     "execution_count": 62,
     "metadata": {},
     "output_type": "execute_result"
    }
   ],
   "source": [
    "data_male[\"Title\"].count()"
   ]
  },
  {
   "cell_type": "markdown",
   "id": "b3348c07",
   "metadata": {},
   "source": [
    " "
   ]
  },
  {
   "cell_type": "markdown",
   "id": "7b72dcba",
   "metadata": {},
   "source": [
    " "
   ]
  },
  {
   "cell_type": "markdown",
   "id": "e2477af8",
   "metadata": {},
   "source": [
    " "
   ]
  },
  {
   "cell_type": "markdown",
   "id": "b904fc14",
   "metadata": {},
   "source": [
    "Min salary when sex is male"
   ]
  },
  {
   "cell_type": "code",
   "execution_count": 11,
   "id": "0d4e3b7b",
   "metadata": {},
   "outputs": [
    {
     "data": {
      "text/html": [
       "<div>\n",
       "<style scoped>\n",
       "    .dataframe tbody tr th:only-of-type {\n",
       "        vertical-align: middle;\n",
       "    }\n",
       "\n",
       "    .dataframe tbody tr th {\n",
       "        vertical-align: top;\n",
       "    }\n",
       "\n",
       "    .dataframe thead th {\n",
       "        text-align: right;\n",
       "    }\n",
       "</style>\n",
       "<table border=\"1\" class=\"dataframe\">\n",
       "  <thead>\n",
       "    <tr style=\"text-align: right;\">\n",
       "      <th></th>\n",
       "      <th>Title</th>\n",
       "      <th>Specialization</th>\n",
       "      <th>Salary</th>\n",
       "      <th>Age</th>\n",
       "      <th>Employment</th>\n",
       "      <th>Work schedule</th>\n",
       "      <th>Experience years</th>\n",
       "      <th>Experience month</th>\n",
       "      <th>Citizenship</th>\n",
       "      <th>Sex</th>\n",
       "      <th>link to resume</th>\n",
       "    </tr>\n",
       "  </thead>\n",
       "  <tbody>\n",
       "    <tr>\n",
       "      <th>1</th>\n",
       "      <td>Python разработчик</td>\n",
       "      <td>Программист, разработчик</td>\n",
       "      <td>0</td>\n",
       "      <td>23</td>\n",
       "      <td>Занятость: полная занятость</td>\n",
       "      <td>График работы: удаленная работа</td>\n",
       "      <td>1</td>\n",
       "      <td>8</td>\n",
       "      <td>Гражданство: Россия</td>\n",
       "      <td>True</td>\n",
       "      <td>https://hh.kz//resume/c5ffe3dc00063777b90039ed...</td>\n",
       "    </tr>\n",
       "  </tbody>\n",
       "</table>\n",
       "</div>"
      ],
      "text/plain": [
       "                Title            Specialization  Salary Age  \\\n",
       "1  Python разработчик  Программист, разработчик       0  23   \n",
       "\n",
       "                    Employment                    Work schedule  \\\n",
       "1  Занятость: полная занятость  График работы: удаленная работа   \n",
       "\n",
       "   Experience years  Experience month          Citizenship   Sex  \\\n",
       "1                 1                 8  Гражданство: Россия  True   \n",
       "\n",
       "                                      link to resume  \n",
       "1  https://hh.kz//resume/c5ffe3dc00063777b90039ed...  "
      ]
     },
     "execution_count": 11,
     "metadata": {},
     "output_type": "execute_result"
    }
   ],
   "source": [
    "min_ind = data_male[\"Salary\"].idxmin()\n",
    "data[data.index == min_ind]"
   ]
  },
  {
   "cell_type": "markdown",
   "id": "2e4bb1bf",
   "metadata": {},
   "source": [
    " "
   ]
  },
  {
   "cell_type": "markdown",
   "id": "78caad3d",
   "metadata": {},
   "source": [
    " "
   ]
  },
  {
   "cell_type": "markdown",
   "id": "9ccfd615",
   "metadata": {},
   "source": [
    " "
   ]
  },
  {
   "cell_type": "markdown",
   "id": "7fcf93d3",
   "metadata": {},
   "source": [
    "Max salary when sex is male"
   ]
  },
  {
   "cell_type": "code",
   "execution_count": 12,
   "id": "fa7a9acb",
   "metadata": {
    "scrolled": true
   },
   "outputs": [
    {
     "data": {
      "text/html": [
       "<div>\n",
       "<style scoped>\n",
       "    .dataframe tbody tr th:only-of-type {\n",
       "        vertical-align: middle;\n",
       "    }\n",
       "\n",
       "    .dataframe tbody tr th {\n",
       "        vertical-align: top;\n",
       "    }\n",
       "\n",
       "    .dataframe thead th {\n",
       "        text-align: right;\n",
       "    }\n",
       "</style>\n",
       "<table border=\"1\" class=\"dataframe\">\n",
       "  <thead>\n",
       "    <tr style=\"text-align: right;\">\n",
       "      <th></th>\n",
       "      <th>Title</th>\n",
       "      <th>Specialization</th>\n",
       "      <th>Salary</th>\n",
       "      <th>Age</th>\n",
       "      <th>Employment</th>\n",
       "      <th>Work schedule</th>\n",
       "      <th>Experience years</th>\n",
       "      <th>Experience month</th>\n",
       "      <th>Citizenship</th>\n",
       "      <th>Sex</th>\n",
       "      <th>link to resume</th>\n",
       "    </tr>\n",
       "  </thead>\n",
       "  <tbody>\n",
       "    <tr>\n",
       "      <th>6</th>\n",
       "      <td>Python developer</td>\n",
       "      <td>Системный администратор</td>\n",
       "      <td>1000000</td>\n",
       "      <td>41</td>\n",
       "      <td>Занятость: частичная занятость, проектная рабо...</td>\n",
       "      <td>График работы: гибкий график, полный день, сме...</td>\n",
       "      <td>21</td>\n",
       "      <td>5</td>\n",
       "      <td>Гражданство: Казахстан</td>\n",
       "      <td>True</td>\n",
       "      <td>https://hh.kz//resume/0827db430000e72e6e0039ed...</td>\n",
       "    </tr>\n",
       "  </tbody>\n",
       "</table>\n",
       "</div>"
      ],
      "text/plain": [
       "              Title           Specialization   Salary Age  \\\n",
       "6  Python developer  Системный администратор  1000000  41   \n",
       "\n",
       "                                          Employment  \\\n",
       "6  Занятость: частичная занятость, проектная рабо...   \n",
       "\n",
       "                                       Work schedule  Experience years  \\\n",
       "6  График работы: гибкий график, полный день, сме...                21   \n",
       "\n",
       "   Experience month             Citizenship   Sex  \\\n",
       "6                 5  Гражданство: Казахстан  True   \n",
       "\n",
       "                                      link to resume  \n",
       "6  https://hh.kz//resume/0827db430000e72e6e0039ed...  "
      ]
     },
     "execution_count": 12,
     "metadata": {},
     "output_type": "execute_result"
    }
   ],
   "source": [
    "max_ind = data_male[\"Salary\"].idxmax()\n",
    "data[data.index == max_ind]"
   ]
  },
  {
   "cell_type": "markdown",
   "id": "4654011f",
   "metadata": {},
   "source": [
    " "
   ]
  },
  {
   "cell_type": "markdown",
   "id": "5b553eff",
   "metadata": {},
   "source": [
    " "
   ]
  },
  {
   "cell_type": "markdown",
   "id": "36a3ffe3",
   "metadata": {},
   "source": [
    " "
   ]
  },
  {
   "cell_type": "markdown",
   "id": "24cc0634",
   "metadata": {},
   "source": [
    "Average salary when sex is male"
   ]
  },
  {
   "cell_type": "code",
   "execution_count": 17,
   "id": "42c12f7a",
   "metadata": {
    "scrolled": true
   },
   "outputs": [
    {
     "data": {
      "text/plain": [
       "144389.47368421053"
      ]
     },
     "execution_count": 17,
     "metadata": {},
     "output_type": "execute_result"
    }
   ],
   "source": [
    "data_male[\"Salary\"].mean()"
   ]
  },
  {
   "cell_type": "markdown",
   "id": "5f229d9c",
   "metadata": {},
   "source": [
    "========================================================================================================================= "
   ]
  },
  {
   "cell_type": "markdown",
   "id": "90d0c57d",
   "metadata": {},
   "source": [
    " "
   ]
  },
  {
   "cell_type": "markdown",
   "id": "78326fc5",
   "metadata": {},
   "source": [
    " "
   ]
  },
  {
   "cell_type": "markdown",
   "id": "becf643c",
   "metadata": {},
   "source": [
    " "
   ]
  },
  {
   "cell_type": "markdown",
   "id": "e4760970",
   "metadata": {},
   "source": [
    "Dataframe where sex is female  "
   ]
  },
  {
   "cell_type": "code",
   "execution_count": 21,
   "id": "a600eccd",
   "metadata": {},
   "outputs": [],
   "source": [
    "data_female = data[data[\"Sex\"] == False]"
   ]
  },
  {
   "cell_type": "markdown",
   "id": "79c9d389",
   "metadata": {},
   "source": [
    " "
   ]
  },
  {
   "cell_type": "markdown",
   "id": "6c052782",
   "metadata": {},
   "source": [
    " "
   ]
  },
  {
   "cell_type": "markdown",
   "id": "d573a002",
   "metadata": {},
   "source": [
    "Count female "
   ]
  },
  {
   "cell_type": "code",
   "execution_count": 63,
   "id": "7bde3ca7",
   "metadata": {},
   "outputs": [
    {
     "data": {
      "text/plain": [
       "1"
      ]
     },
     "execution_count": 63,
     "metadata": {},
     "output_type": "execute_result"
    }
   ],
   "source": [
    "data_female[\"Title\"].count()"
   ]
  },
  {
   "cell_type": "markdown",
   "id": "7dcc3155",
   "metadata": {},
   "source": [
    " "
   ]
  },
  {
   "cell_type": "markdown",
   "id": "fae619e0",
   "metadata": {},
   "source": [
    " "
   ]
  },
  {
   "cell_type": "markdown",
   "id": "39ab37ac",
   "metadata": {},
   "source": [
    " "
   ]
  },
  {
   "cell_type": "markdown",
   "id": "c6ab0298",
   "metadata": {},
   "source": [
    "Min salary when sex is female"
   ]
  },
  {
   "cell_type": "code",
   "execution_count": 25,
   "id": "42d42e6a",
   "metadata": {},
   "outputs": [
    {
     "data": {
      "text/html": [
       "<div>\n",
       "<style scoped>\n",
       "    .dataframe tbody tr th:only-of-type {\n",
       "        vertical-align: middle;\n",
       "    }\n",
       "\n",
       "    .dataframe tbody tr th {\n",
       "        vertical-align: top;\n",
       "    }\n",
       "\n",
       "    .dataframe thead th {\n",
       "        text-align: right;\n",
       "    }\n",
       "</style>\n",
       "<table border=\"1\" class=\"dataframe\">\n",
       "  <thead>\n",
       "    <tr style=\"text-align: right;\">\n",
       "      <th></th>\n",
       "      <th>Title</th>\n",
       "      <th>Specialization</th>\n",
       "      <th>Salary</th>\n",
       "      <th>Age</th>\n",
       "      <th>Employment</th>\n",
       "      <th>Work schedule</th>\n",
       "      <th>Experience years</th>\n",
       "      <th>Experience month</th>\n",
       "      <th>Citizenship</th>\n",
       "      <th>Sex</th>\n",
       "      <th>link to resume</th>\n",
       "    </tr>\n",
       "  </thead>\n",
       "  <tbody>\n",
       "    <tr>\n",
       "      <th>0</th>\n",
       "      <td>Python Developer</td>\n",
       "      <td>Программист, разработчик</td>\n",
       "      <td>0</td>\n",
       "      <td>38</td>\n",
       "      <td>Занятость: проектная работа, стажировка, части...</td>\n",
       "      <td>График работы: вахтовый метод, удаленная работ...</td>\n",
       "      <td>13</td>\n",
       "      <td>8</td>\n",
       "      <td>Гражданство: Казахстан</td>\n",
       "      <td>False</td>\n",
       "      <td>https://hh.kz//resume/b7f2197800057fa8e30039ed...</td>\n",
       "    </tr>\n",
       "  </tbody>\n",
       "</table>\n",
       "</div>"
      ],
      "text/plain": [
       "              Title            Specialization  Salary Age  \\\n",
       "0  Python Developer  Программист, разработчик       0  38   \n",
       "\n",
       "                                          Employment  \\\n",
       "0  Занятость: проектная работа, стажировка, части...   \n",
       "\n",
       "                                       Work schedule  Experience years  \\\n",
       "0  График работы: вахтовый метод, удаленная работ...                13   \n",
       "\n",
       "   Experience month             Citizenship    Sex  \\\n",
       "0                 8  Гражданство: Казахстан  False   \n",
       "\n",
       "                                      link to resume  \n",
       "0  https://hh.kz//resume/b7f2197800057fa8e30039ed...  "
      ]
     },
     "execution_count": 25,
     "metadata": {},
     "output_type": "execute_result"
    }
   ],
   "source": [
    "min_ind = data_female[\"Salary\"].idxmin()\n",
    "data_female[data_female.index == min_ind]"
   ]
  },
  {
   "cell_type": "markdown",
   "id": "1436b748",
   "metadata": {},
   "source": [
    " "
   ]
  },
  {
   "cell_type": "markdown",
   "id": "9e823774",
   "metadata": {},
   "source": [
    " "
   ]
  },
  {
   "cell_type": "markdown",
   "id": "f74be933",
   "metadata": {},
   "source": [
    " "
   ]
  },
  {
   "cell_type": "markdown",
   "id": "c0a9b059",
   "metadata": {},
   "source": [
    "Max salary when sex is female "
   ]
  },
  {
   "cell_type": "code",
   "execution_count": 26,
   "id": "199003a6",
   "metadata": {
    "scrolled": true
   },
   "outputs": [
    {
     "data": {
      "text/html": [
       "<div>\n",
       "<style scoped>\n",
       "    .dataframe tbody tr th:only-of-type {\n",
       "        vertical-align: middle;\n",
       "    }\n",
       "\n",
       "    .dataframe tbody tr th {\n",
       "        vertical-align: top;\n",
       "    }\n",
       "\n",
       "    .dataframe thead th {\n",
       "        text-align: right;\n",
       "    }\n",
       "</style>\n",
       "<table border=\"1\" class=\"dataframe\">\n",
       "  <thead>\n",
       "    <tr style=\"text-align: right;\">\n",
       "      <th></th>\n",
       "      <th>Title</th>\n",
       "      <th>Specialization</th>\n",
       "      <th>Salary</th>\n",
       "      <th>Age</th>\n",
       "      <th>Employment</th>\n",
       "      <th>Work schedule</th>\n",
       "      <th>Experience years</th>\n",
       "      <th>Experience month</th>\n",
       "      <th>Citizenship</th>\n",
       "      <th>Sex</th>\n",
       "      <th>link to resume</th>\n",
       "    </tr>\n",
       "  </thead>\n",
       "  <tbody>\n",
       "    <tr>\n",
       "      <th>0</th>\n",
       "      <td>Python Developer</td>\n",
       "      <td>Программист, разработчик</td>\n",
       "      <td>0</td>\n",
       "      <td>38</td>\n",
       "      <td>Занятость: проектная работа, стажировка, части...</td>\n",
       "      <td>График работы: вахтовый метод, удаленная работ...</td>\n",
       "      <td>13</td>\n",
       "      <td>8</td>\n",
       "      <td>Гражданство: Казахстан</td>\n",
       "      <td>False</td>\n",
       "      <td>https://hh.kz//resume/b7f2197800057fa8e30039ed...</td>\n",
       "    </tr>\n",
       "  </tbody>\n",
       "</table>\n",
       "</div>"
      ],
      "text/plain": [
       "              Title            Specialization  Salary Age  \\\n",
       "0  Python Developer  Программист, разработчик       0  38   \n",
       "\n",
       "                                          Employment  \\\n",
       "0  Занятость: проектная работа, стажировка, части...   \n",
       "\n",
       "                                       Work schedule  Experience years  \\\n",
       "0  График работы: вахтовый метод, удаленная работ...                13   \n",
       "\n",
       "   Experience month             Citizenship    Sex  \\\n",
       "0                 8  Гражданство: Казахстан  False   \n",
       "\n",
       "                                      link to resume  \n",
       "0  https://hh.kz//resume/b7f2197800057fa8e30039ed...  "
      ]
     },
     "execution_count": 26,
     "metadata": {},
     "output_type": "execute_result"
    }
   ],
   "source": [
    "max_ind = data_female[\"Salary\"].idxmax()\n",
    "data_female[data_female.index == max_ind]"
   ]
  },
  {
   "cell_type": "markdown",
   "id": "7429cdf7",
   "metadata": {},
   "source": [
    " "
   ]
  },
  {
   "cell_type": "markdown",
   "id": "177f6699",
   "metadata": {},
   "source": [
    " "
   ]
  },
  {
   "cell_type": "markdown",
   "id": "b2e2bb9b",
   "metadata": {},
   "source": [
    " "
   ]
  },
  {
   "cell_type": "markdown",
   "id": "efe591e8",
   "metadata": {},
   "source": [
    "Average salary when sex is female "
   ]
  },
  {
   "cell_type": "code",
   "execution_count": 27,
   "id": "022a284e",
   "metadata": {
    "scrolled": true
   },
   "outputs": [
    {
     "data": {
      "text/plain": [
       "0.0"
      ]
     },
     "execution_count": 27,
     "metadata": {},
     "output_type": "execute_result"
    }
   ],
   "source": [
    "data_female[\"Salary\"].mean()"
   ]
  },
  {
   "cell_type": "markdown",
   "id": "93005f8d",
   "metadata": {},
   "source": [
    "========================================================================================================================="
   ]
  },
  {
   "cell_type": "markdown",
   "id": "df7e73f4",
   "metadata": {},
   "source": [
    " "
   ]
  },
  {
   "cell_type": "markdown",
   "id": "be850d0a",
   "metadata": {},
   "source": [
    " "
   ]
  },
  {
   "cell_type": "markdown",
   "id": "eeba0b79",
   "metadata": {},
   "source": [
    " "
   ]
  },
  {
   "cell_type": "markdown",
   "id": "0ce0172e",
   "metadata": {},
   "source": [
    "Specializations"
   ]
  },
  {
   "cell_type": "code",
   "execution_count": 34,
   "id": "e945b3da",
   "metadata": {
    "scrolled": true
   },
   "outputs": [],
   "source": [
    "specializations = data[\"Specialization\"].unique()"
   ]
  },
  {
   "cell_type": "code",
   "execution_count": 37,
   "id": "b9fa0369",
   "metadata": {},
   "outputs": [
    {
     "data": {
      "text/plain": [
       "array(['Программист, разработчик', 'Programmer, developer',\n",
       "       'Системный администратор'], dtype=object)"
      ]
     },
     "execution_count": 37,
     "metadata": {},
     "output_type": "execute_result"
    }
   ],
   "source": [
    "specializations"
   ]
  },
  {
   "cell_type": "code",
   "execution_count": 38,
   "id": "a59279b4",
   "metadata": {
    "scrolled": true
   },
   "outputs": [
    {
     "data": {
      "text/plain": [
       "3"
      ]
     },
     "execution_count": 38,
     "metadata": {},
     "output_type": "execute_result"
    }
   ],
   "source": [
    "len(specializations)"
   ]
  },
  {
   "cell_type": "markdown",
   "id": "e94582cb",
   "metadata": {},
   "source": [
    " "
   ]
  },
  {
   "cell_type": "markdown",
   "id": "00ff08c0",
   "metadata": {},
   "source": [
    " "
   ]
  },
  {
   "cell_type": "code",
   "execution_count": 39,
   "id": "337461a5",
   "metadata": {},
   "outputs": [],
   "source": [
    "data_specialization = data[data[\"Specialization\"] == specializations[0]]"
   ]
  },
  {
   "cell_type": "markdown",
   "id": "fb628b58",
   "metadata": {},
   "source": [
    " "
   ]
  },
  {
   "cell_type": "markdown",
   "id": "2f4ab3cf",
   "metadata": {},
   "source": [
    " "
   ]
  },
  {
   "cell_type": "markdown",
   "id": "8b7db643",
   "metadata": {},
   "source": [
    " "
   ]
  },
  {
   "cell_type": "markdown",
   "id": "11b06523",
   "metadata": {},
   "source": [
    "Min salary by specialization"
   ]
  },
  {
   "cell_type": "code",
   "execution_count": 41,
   "id": "ebc3ea09",
   "metadata": {},
   "outputs": [
    {
     "data": {
      "text/html": [
       "<div>\n",
       "<style scoped>\n",
       "    .dataframe tbody tr th:only-of-type {\n",
       "        vertical-align: middle;\n",
       "    }\n",
       "\n",
       "    .dataframe tbody tr th {\n",
       "        vertical-align: top;\n",
       "    }\n",
       "\n",
       "    .dataframe thead th {\n",
       "        text-align: right;\n",
       "    }\n",
       "</style>\n",
       "<table border=\"1\" class=\"dataframe\">\n",
       "  <thead>\n",
       "    <tr style=\"text-align: right;\">\n",
       "      <th></th>\n",
       "      <th>Title</th>\n",
       "      <th>Specialization</th>\n",
       "      <th>Salary</th>\n",
       "      <th>Age</th>\n",
       "      <th>Employment</th>\n",
       "      <th>Work schedule</th>\n",
       "      <th>Experience years</th>\n",
       "      <th>Experience month</th>\n",
       "      <th>Citizenship</th>\n",
       "      <th>Sex</th>\n",
       "      <th>link to resume</th>\n",
       "    </tr>\n",
       "  </thead>\n",
       "  <tbody>\n",
       "    <tr>\n",
       "      <th>0</th>\n",
       "      <td>Python Developer</td>\n",
       "      <td>Программист, разработчик</td>\n",
       "      <td>0</td>\n",
       "      <td>38</td>\n",
       "      <td>Занятость: проектная работа, стажировка, части...</td>\n",
       "      <td>График работы: вахтовый метод, удаленная работ...</td>\n",
       "      <td>13</td>\n",
       "      <td>8</td>\n",
       "      <td>Гражданство: Казахстан</td>\n",
       "      <td>False</td>\n",
       "      <td>https://hh.kz//resume/b7f2197800057fa8e30039ed...</td>\n",
       "    </tr>\n",
       "  </tbody>\n",
       "</table>\n",
       "</div>"
      ],
      "text/plain": [
       "              Title            Specialization  Salary Age  \\\n",
       "0  Python Developer  Программист, разработчик       0  38   \n",
       "\n",
       "                                          Employment  \\\n",
       "0  Занятость: проектная работа, стажировка, части...   \n",
       "\n",
       "                                       Work schedule  Experience years  \\\n",
       "0  График работы: вахтовый метод, удаленная работ...                13   \n",
       "\n",
       "   Experience month             Citizenship    Sex  \\\n",
       "0                 8  Гражданство: Казахстан  False   \n",
       "\n",
       "                                      link to resume  \n",
       "0  https://hh.kz//resume/b7f2197800057fa8e30039ed...  "
      ]
     },
     "execution_count": 41,
     "metadata": {},
     "output_type": "execute_result"
    }
   ],
   "source": [
    "min_ind = data_specialization[\"Salary\"].idxmin()\n",
    "data_specialization[data_specialization.index == min_ind]"
   ]
  },
  {
   "cell_type": "markdown",
   "id": "664829fb",
   "metadata": {},
   "source": [
    " "
   ]
  },
  {
   "cell_type": "markdown",
   "id": "8875aa8f",
   "metadata": {},
   "source": [
    " "
   ]
  },
  {
   "cell_type": "markdown",
   "id": "74e60bda",
   "metadata": {},
   "source": [
    " "
   ]
  },
  {
   "cell_type": "markdown",
   "id": "57121197",
   "metadata": {},
   "source": [
    "Max salary by specialization"
   ]
  },
  {
   "cell_type": "code",
   "execution_count": 43,
   "id": "9ca7644d",
   "metadata": {
    "scrolled": true
   },
   "outputs": [
    {
     "data": {
      "text/html": [
       "<div>\n",
       "<style scoped>\n",
       "    .dataframe tbody tr th:only-of-type {\n",
       "        vertical-align: middle;\n",
       "    }\n",
       "\n",
       "    .dataframe tbody tr th {\n",
       "        vertical-align: top;\n",
       "    }\n",
       "\n",
       "    .dataframe thead th {\n",
       "        text-align: right;\n",
       "    }\n",
       "</style>\n",
       "<table border=\"1\" class=\"dataframe\">\n",
       "  <thead>\n",
       "    <tr style=\"text-align: right;\">\n",
       "      <th></th>\n",
       "      <th>Title</th>\n",
       "      <th>Specialization</th>\n",
       "      <th>Salary</th>\n",
       "      <th>Age</th>\n",
       "      <th>Employment</th>\n",
       "      <th>Work schedule</th>\n",
       "      <th>Experience years</th>\n",
       "      <th>Experience month</th>\n",
       "      <th>Citizenship</th>\n",
       "      <th>Sex</th>\n",
       "      <th>link to resume</th>\n",
       "    </tr>\n",
       "  </thead>\n",
       "  <tbody>\n",
       "    <tr>\n",
       "      <th>8</th>\n",
       "      <td>Python backend developer</td>\n",
       "      <td>Программист, разработчик</td>\n",
       "      <td>670500</td>\n",
       "      <td>20</td>\n",
       "      <td>Занятость: стажировка, частичная занятость, пр...</td>\n",
       "      <td>График работы: гибкий график, полный день, уда...</td>\n",
       "      <td>2</td>\n",
       "      <td>3</td>\n",
       "      <td>Гражданство: Узбекистан</td>\n",
       "      <td>True</td>\n",
       "      <td>https://hh.kz//resume/5772ea490008e3ab8a0039ed...</td>\n",
       "    </tr>\n",
       "  </tbody>\n",
       "</table>\n",
       "</div>"
      ],
      "text/plain": [
       "                      Title            Specialization  Salary Age  \\\n",
       "8  Python backend developer  Программист, разработчик  670500  20   \n",
       "\n",
       "                                          Employment  \\\n",
       "8  Занятость: стажировка, частичная занятость, пр...   \n",
       "\n",
       "                                       Work schedule  Experience years  \\\n",
       "8  График работы: гибкий график, полный день, уда...                 2   \n",
       "\n",
       "   Experience month              Citizenship   Sex  \\\n",
       "8                 3  Гражданство: Узбекистан  True   \n",
       "\n",
       "                                      link to resume  \n",
       "8  https://hh.kz//resume/5772ea490008e3ab8a0039ed...  "
      ]
     },
     "execution_count": 43,
     "metadata": {},
     "output_type": "execute_result"
    }
   ],
   "source": [
    "max_ind = data_specialization[\"Salary\"].idxmax()\n",
    "data_specialization[data_specialization.index == max_ind]"
   ]
  },
  {
   "cell_type": "markdown",
   "id": "9a621d7e",
   "metadata": {},
   "source": [
    " "
   ]
  },
  {
   "cell_type": "markdown",
   "id": "cf07a8c7",
   "metadata": {},
   "source": [
    " "
   ]
  },
  {
   "cell_type": "markdown",
   "id": "171639bf",
   "metadata": {},
   "source": [
    " "
   ]
  },
  {
   "cell_type": "markdown",
   "id": "728d4f12",
   "metadata": {},
   "source": [
    "Average salary by specialization "
   ]
  },
  {
   "cell_type": "code",
   "execution_count": 44,
   "id": "570512d1",
   "metadata": {},
   "outputs": [
    {
     "data": {
      "text/plain": [
       "108962.5"
      ]
     },
     "execution_count": 44,
     "metadata": {},
     "output_type": "execute_result"
    }
   ],
   "source": [
    "data_specialization[\"Salary\"].mean()"
   ]
  },
  {
   "cell_type": "markdown",
   "id": "76d2d997",
   "metadata": {},
   "source": [
    "========================================================================================================================="
   ]
  },
  {
   "cell_type": "markdown",
   "id": "5558ebcc",
   "metadata": {},
   "source": [
    " "
   ]
  },
  {
   "cell_type": "markdown",
   "id": "5408d7f7",
   "metadata": {},
   "source": [
    " "
   ]
  },
  {
   "cell_type": "markdown",
   "id": "f0b6639b",
   "metadata": {},
   "source": [
    " "
   ]
  },
  {
   "cell_type": "markdown",
   "id": "3a471a6f",
   "metadata": {},
   "source": [
    " "
   ]
  },
  {
   "cell_type": "markdown",
   "id": "d3c71fad",
   "metadata": {},
   "source": [
    "Citizenship "
   ]
  },
  {
   "cell_type": "code",
   "execution_count": 47,
   "id": "85ad381d",
   "metadata": {},
   "outputs": [],
   "source": [
    "citizenships = data[\"Citizenship\"].unique()"
   ]
  },
  {
   "cell_type": "code",
   "execution_count": 50,
   "id": "97a168a0",
   "metadata": {
    "scrolled": true
   },
   "outputs": [
    {
     "data": {
      "text/plain": [
       "6"
      ]
     },
     "execution_count": 50,
     "metadata": {},
     "output_type": "execute_result"
    }
   ],
   "source": [
    "citizenships\n",
    "len(citizenships)"
   ]
  },
  {
   "cell_type": "markdown",
   "id": "51474498",
   "metadata": {},
   "source": [
    " "
   ]
  },
  {
   "cell_type": "markdown",
   "id": "c269cc4d",
   "metadata": {},
   "source": [
    " "
   ]
  },
  {
   "cell_type": "code",
   "execution_count": 51,
   "id": "d9111444",
   "metadata": {},
   "outputs": [],
   "source": [
    "data_citizenship = data[data[\"Citizenship\"] == citizenships[0]]"
   ]
  },
  {
   "cell_type": "markdown",
   "id": "71dd51d8",
   "metadata": {},
   "source": [
    " "
   ]
  },
  {
   "cell_type": "markdown",
   "id": "69f2755f",
   "metadata": {},
   "source": [
    " "
   ]
  },
  {
   "cell_type": "markdown",
   "id": "210cf8ff",
   "metadata": {},
   "source": [
    " "
   ]
  },
  {
   "cell_type": "markdown",
   "id": "9f688fcf",
   "metadata": {},
   "source": [
    "Min salary by citizenship "
   ]
  },
  {
   "cell_type": "code",
   "execution_count": 52,
   "id": "d64b4426",
   "metadata": {},
   "outputs": [
    {
     "data": {
      "text/html": [
       "<div>\n",
       "<style scoped>\n",
       "    .dataframe tbody tr th:only-of-type {\n",
       "        vertical-align: middle;\n",
       "    }\n",
       "\n",
       "    .dataframe tbody tr th {\n",
       "        vertical-align: top;\n",
       "    }\n",
       "\n",
       "    .dataframe thead th {\n",
       "        text-align: right;\n",
       "    }\n",
       "</style>\n",
       "<table border=\"1\" class=\"dataframe\">\n",
       "  <thead>\n",
       "    <tr style=\"text-align: right;\">\n",
       "      <th></th>\n",
       "      <th>Title</th>\n",
       "      <th>Specialization</th>\n",
       "      <th>Salary</th>\n",
       "      <th>Age</th>\n",
       "      <th>Employment</th>\n",
       "      <th>Work schedule</th>\n",
       "      <th>Experience years</th>\n",
       "      <th>Experience month</th>\n",
       "      <th>Citizenship</th>\n",
       "      <th>Sex</th>\n",
       "      <th>link to resume</th>\n",
       "    </tr>\n",
       "  </thead>\n",
       "  <tbody>\n",
       "    <tr>\n",
       "      <th>0</th>\n",
       "      <td>Python Developer</td>\n",
       "      <td>Программист, разработчик</td>\n",
       "      <td>0</td>\n",
       "      <td>38</td>\n",
       "      <td>Занятость: проектная работа, стажировка, части...</td>\n",
       "      <td>График работы: вахтовый метод, удаленная работ...</td>\n",
       "      <td>13</td>\n",
       "      <td>8</td>\n",
       "      <td>Гражданство: Казахстан</td>\n",
       "      <td>False</td>\n",
       "      <td>https://hh.kz//resume/b7f2197800057fa8e30039ed...</td>\n",
       "    </tr>\n",
       "  </tbody>\n",
       "</table>\n",
       "</div>"
      ],
      "text/plain": [
       "              Title            Specialization  Salary Age  \\\n",
       "0  Python Developer  Программист, разработчик       0  38   \n",
       "\n",
       "                                          Employment  \\\n",
       "0  Занятость: проектная работа, стажировка, части...   \n",
       "\n",
       "                                       Work schedule  Experience years  \\\n",
       "0  График работы: вахтовый метод, удаленная работ...                13   \n",
       "\n",
       "   Experience month             Citizenship    Sex  \\\n",
       "0                 8  Гражданство: Казахстан  False   \n",
       "\n",
       "                                      link to resume  \n",
       "0  https://hh.kz//resume/b7f2197800057fa8e30039ed...  "
      ]
     },
     "execution_count": 52,
     "metadata": {},
     "output_type": "execute_result"
    }
   ],
   "source": [
    "min_ind = data_citizenship[\"Salary\"].idxmin()\n",
    "data_citizenship[data_citizenship.index == min_ind]"
   ]
  },
  {
   "cell_type": "markdown",
   "id": "fb7f1a1e",
   "metadata": {},
   "source": [
    " "
   ]
  },
  {
   "cell_type": "markdown",
   "id": "8b991209",
   "metadata": {},
   "source": [
    " "
   ]
  },
  {
   "cell_type": "markdown",
   "id": "93687655",
   "metadata": {},
   "source": [
    " "
   ]
  },
  {
   "cell_type": "markdown",
   "id": "f77c5891",
   "metadata": {},
   "source": [
    "Max salary by citizenship "
   ]
  },
  {
   "cell_type": "code",
   "execution_count": 53,
   "id": "180b0edf",
   "metadata": {
    "scrolled": true
   },
   "outputs": [
    {
     "data": {
      "text/html": [
       "<div>\n",
       "<style scoped>\n",
       "    .dataframe tbody tr th:only-of-type {\n",
       "        vertical-align: middle;\n",
       "    }\n",
       "\n",
       "    .dataframe tbody tr th {\n",
       "        vertical-align: top;\n",
       "    }\n",
       "\n",
       "    .dataframe thead th {\n",
       "        text-align: right;\n",
       "    }\n",
       "</style>\n",
       "<table border=\"1\" class=\"dataframe\">\n",
       "  <thead>\n",
       "    <tr style=\"text-align: right;\">\n",
       "      <th></th>\n",
       "      <th>Title</th>\n",
       "      <th>Specialization</th>\n",
       "      <th>Salary</th>\n",
       "      <th>Age</th>\n",
       "      <th>Employment</th>\n",
       "      <th>Work schedule</th>\n",
       "      <th>Experience years</th>\n",
       "      <th>Experience month</th>\n",
       "      <th>Citizenship</th>\n",
       "      <th>Sex</th>\n",
       "      <th>link to resume</th>\n",
       "    </tr>\n",
       "  </thead>\n",
       "  <tbody>\n",
       "    <tr>\n",
       "      <th>6</th>\n",
       "      <td>Python developer</td>\n",
       "      <td>Системный администратор</td>\n",
       "      <td>1000000</td>\n",
       "      <td>41</td>\n",
       "      <td>Занятость: частичная занятость, проектная рабо...</td>\n",
       "      <td>График работы: гибкий график, полный день, сме...</td>\n",
       "      <td>21</td>\n",
       "      <td>5</td>\n",
       "      <td>Гражданство: Казахстан</td>\n",
       "      <td>True</td>\n",
       "      <td>https://hh.kz//resume/0827db430000e72e6e0039ed...</td>\n",
       "    </tr>\n",
       "  </tbody>\n",
       "</table>\n",
       "</div>"
      ],
      "text/plain": [
       "              Title           Specialization   Salary Age  \\\n",
       "6  Python developer  Системный администратор  1000000  41   \n",
       "\n",
       "                                          Employment  \\\n",
       "6  Занятость: частичная занятость, проектная рабо...   \n",
       "\n",
       "                                       Work schedule  Experience years  \\\n",
       "6  График работы: гибкий график, полный день, сме...                21   \n",
       "\n",
       "   Experience month             Citizenship   Sex  \\\n",
       "6                 5  Гражданство: Казахстан  True   \n",
       "\n",
       "                                      link to resume  \n",
       "6  https://hh.kz//resume/0827db430000e72e6e0039ed...  "
      ]
     },
     "execution_count": 53,
     "metadata": {},
     "output_type": "execute_result"
    }
   ],
   "source": [
    "max_ind = data_citizenship[\"Salary\"].idxmax()\n",
    "data_citizenship[data_citizenship.index == max_ind]"
   ]
  },
  {
   "cell_type": "markdown",
   "id": "84e76a46",
   "metadata": {},
   "source": [
    " "
   ]
  },
  {
   "cell_type": "markdown",
   "id": "21fef221",
   "metadata": {},
   "source": [
    " "
   ]
  },
  {
   "cell_type": "markdown",
   "id": "83eeb659",
   "metadata": {},
   "source": [
    " "
   ]
  },
  {
   "cell_type": "markdown",
   "id": "85ff17f1",
   "metadata": {},
   "source": [
    " Average salary by citizenship"
   ]
  },
  {
   "cell_type": "code",
   "execution_count": 56,
   "id": "bb87e3b3",
   "metadata": {
    "scrolled": true
   },
   "outputs": [
    {
     "data": {
      "text/plain": [
       "154838.46153846153"
      ]
     },
     "execution_count": 56,
     "metadata": {},
     "output_type": "execute_result"
    }
   ],
   "source": [
    "data_citizenship[\"Salary\"].mean()"
   ]
  },
  {
   "cell_type": "markdown",
   "id": "411ac9fe",
   "metadata": {},
   "source": [
    "========================================================================================================================= "
   ]
  },
  {
   "cell_type": "markdown",
   "id": "c4fe2b94",
   "metadata": {},
   "source": [
    " "
   ]
  },
  {
   "cell_type": "markdown",
   "id": "ac8f16d9",
   "metadata": {},
   "source": [
    " "
   ]
  },
  {
   "cell_type": "markdown",
   "id": "4f250163",
   "metadata": {},
   "source": [
    " "
   ]
  },
  {
   "cell_type": "markdown",
   "id": "ebd0129b",
   "metadata": {},
   "source": [
    " "
   ]
  },
  {
   "cell_type": "markdown",
   "id": "86379f27",
   "metadata": {},
   "source": [
    "Plots"
   ]
  },
  {
   "cell_type": "code",
   "execution_count": 86,
   "id": "752f08a3",
   "metadata": {},
   "outputs": [],
   "source": [
    "sorted = data.sort_values([\"Salary\"], ascending=False)"
   ]
  },
  {
   "cell_type": "code",
   "execution_count": 83,
   "id": "b09123e6",
   "metadata": {},
   "outputs": [
    {
     "data": {
      "text/plain": [
       "<Axes: >"
      ]
     },
     "execution_count": 83,
     "metadata": {},
     "output_type": "execute_result"
    },
    {
     "data": {
      "image/png": "[encoded data removed]",
      "text/plain": [
       "<Figure size 640x480 with 1 Axes>"
      ]
     },
     "metadata": {},
     "output_type": "display_data"
    }
   ],
   "source": [
    "data.sort_values([\"Salary\"], ascending=False)[\"Salary\"].plot()"
   ]
  },
  {
   "cell_type": "code",
   "execution_count": null,
   "id": "5dc63bd5",
   "metadata": {},
   "outputs": [],
   "source": []
  }
 ],
 "metadata": {
  "kernelspec": {
   "display_name": "Python 3 (ipykernel)",
   "language": "python",
   "name": "python3"
  },
  "language_info": {
   "codemirror_mode": {
    "name": "ipython",
    "version": 3
   },
   "file_extension": ".py",
   "mimetype": "text/x-python",
   "name": "python",
   "nbconvert_exporter": "python",
   "pygments_lexer": "ipython3",
   "version": "3.9.13"
  }
 },
 "nbformat": 4,
 "nbformat_minor": 5
}
